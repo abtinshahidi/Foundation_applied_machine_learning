{
 "cells": [
  {
   "cell_type": "markdown",
   "metadata": {},
   "source": [
    "# **The Foundation of Applied Machine Learning**\n",
    "## Spring 2019\n",
    "\n",
    "### Instructor: [**Prof. Bahram Mobasher**](http://faculty.ucr.edu/~mobasher/)\n",
    "### Teaching Assistance: [**Abtin Shahidi**](https://abtinshahidi.github.io/) email *abtin.shahidi--at--email.ucr.edu*\n",
    "\n",
    "### Course webpage: [https://abtinshahidi.github.io/teaching/2019-spring-foundation-machine-learning](https://abtinshahidi.github.io/teaching/2019-spring-foundation-machine-learning)\n",
    "\n"
   ]
  },
  {
   "cell_type": "markdown",
   "metadata": {},
   "source": [
    "# **Week 5**\n",
    "\n",
    "## Machine Learning: Clustering and Classificaion \n",
    "\n",
    "\n"
   ]
  },
  {
   "cell_type": "markdown",
   "metadata": {},
   "source": [
    "### What is machine learning?"
   ]
  },
  {
   "cell_type": "markdown",
   "metadata": {},
   "source": [
    "In traditional programming we mainly deal with an input and we need to explicitly write program for machine to produce a desired output but in the machine learning way of programming you will give the input and output (usually a smaller set of desired outputs) and the machine will find the right program to model output. \n"
   ]
  },
  {
   "cell_type": "markdown",
   "metadata": {},
   "source": [
    "That is why what we did last week was a simple example of machine learning. Fitting a polynomial(general model) by linear regression which at the end produced the desired model which \n",
    "was our polynomial with the right coefficient to be able to predict future instances. Learning from much smaller subset of possible data to predict the future instances."
   ]
  },
  {
   "cell_type": "markdown",
   "metadata": {},
   "source": [
    "### General idea:\n",
    "\n",
    "* Take a set of examples. (training data)\n",
    "* Infering some properties from the underlying model. (Model)\n",
    "* Use the model found to predict future (unknow) data. (test set, new examples, ...)"
   ]
  },
  {
   "cell_type": "markdown",
   "metadata": {},
   "source": [
    "Maching learning algorithm can be classified in two groups based on the available data:\n",
    "* **Supervised learning:** In this set of algorithm we are dealing with a labeled dataset and we are trying to predict the label for future instances. Here we are trying to find the **conditional** probability for our variables given a set of known examples.  \n",
    "* **Unsupervised learning:** In these methods of learning we usually have a data set without any label and we are trying to find an underlying patterns. In the language of probability, we are trying to find the probability density of the inputs. We want to come up with a **priori** probability distribution."
   ]
  },
  {
   "cell_type": "markdown",
   "metadata": {},
   "source": [
    "We are going to see that the **Supervised learning** is basically an **optimization** problem. "
   ]
  },
  {
   "cell_type": "markdown",
   "metadata": {},
   "source": [
    "# **Clustering:**"
   ]
  },
  {
   "cell_type": "code",
   "execution_count": 9,
   "metadata": {},
   "outputs": [
    {
     "data": {
      "image/png": "[encoded data removed]",
      "text/plain": [
       "<Figure size 432x288 with 1 Axes>"
      ]
     },
     "metadata": {
      "needs_background": "light"
     },
     "output_type": "display_data"
    }
   ],
   "source": [
    "import numpy as np \n",
    "import random \n",
    "import matplotlib.pyplot as plt\n",
    "\n",
    "\n",
    "x1 = np.random.randint(0, 50, 50)\n",
    "y1 = np.random.randint(0, 100, 50)\n",
    "\n",
    "x2 = np.random.randint(50, 90, 60)\n",
    "y2 = np.random.randint(70, 120, 60)\n",
    "\n",
    "\n",
    "plt.plot(x1, y1, 'b.')\n",
    "plt.plot(x2, y2, 'b.')\n",
    "\n",
    "plt.show()"
   ]
  },
  {
   "cell_type": "markdown",
   "metadata": {},
   "source": [
    "Clustering is an optimization problem. But first let's define some useful concepts:\n",
    "\n",
    "## **Variability** of a cluster: $V(c)$  \n",
    "This shows how much difference exist between each element of the cluster and the mean of the cluster. \n",
    "\n",
    "$$\n",
    "\\begin{equation*}\n",
    "V(c) = \\sum_{x \\in c} d(mean(c), x)\n",
    "\\end{equation*}\n",
    "$$\n",
    "\n",
    "In which $c$ is a cluster, and $d(x_0,x_1)$ is the distance between them.  [Euclidean](https://en.wikipedia.org/wiki/Euclidean_distance) or even [Minkowski](https://en.wikipedia.org/wiki/Minkowski_distance) distance)\n",
    "\n",
    "\n",
    "## **Dissimilirity** of the set of clusters: $D(C)$\n",
    "\n",
    "This is a measure for a aggregate variablility of a set of clusters. And it is defined as:\n",
    "\n",
    "\n",
    "$$\n",
    "\\begin{equation*}\n",
    "D(C) = \\sum_{c \\in C} V(c)\n",
    "\\end{equation*}\n",
    "$$"
   ]
  },
  {
   "cell_type": "markdown",
   "metadata": {},
   "source": [
    "### Quick note on $d(x_0,x_1)$: \n",
    "\n",
    "Usually we define the distance between two points to be _Euclidean_. \n",
    "\n",
    "If we take two vectors as $X, Y \\in \\mathbb{R}^M$, we define the Euclidean distance to be:\n",
    "\n",
    "\n",
    "$$\n",
    "\\begin{equation*}\n",
    "d(\\vec{X}, \\vec{Y}) = \\sqrt{\\sum_{i=1}^M (X_i-Y_i)^2}\n",
    "\\end{equation*}\n",
    "$$\n",
    "\n",
    "\n",
    "This is a special case for a more general class of distance definitions which are called the _Minkowski_ distance, which is defined as: \n",
    "\n",
    "$$\n",
    "\\begin{equation*}\n",
    "d(\\vec{X}, \\vec{Y}) = \\sqrt[n]{\\sum_{i=1}^M (X_i-Y_i)^n}\n",
    "\\end{equation*}\n",
    "$$\n",
    "\n",
    "\n",
    "Another special cases from Minkowski are the [Taxicab](https://en.wikipedia.org/wiki/Taxicab_geometry) distance (also known as Manhatan distance): \n",
    "\n",
    "$$\n",
    "\\begin{equation*}\n",
    "d(\\vec{X}, \\vec{Y}) = \\sum_{i=1}^M \\|X_i-Y_i\\|\n",
    "\\end{equation*}\n",
    "$$\n",
    "\n",
    "\n",
    "And the [ Tchebychev](https://en.wikipedia.org/wiki/Chebyshev_distance) distance:\n",
    "\n",
    "\n",
    "$$\n",
    "\\begin{equation*}\n",
    "d(\\vec{X}, \\vec{Y}) = \\lim_{n \\to \\infty}{\\sqrt[n]{\\sum_{i=1}^M (X_i-Y_i)^n}}\n",
    "\\end{equation*}\n",
    "$$\n",
    "\n",
    "\n",
    "As an excersice, find the equivalent representation of a circle in 2-d Euclidian geometry, for different cases of n. "
   ]
  },
  {
   "cell_type": "markdown",
   "metadata": {},
   "source": [
    "Let's write the code for Minkowski distance:"
   ]
  },
  {
   "cell_type": "code",
   "execution_count": 78,
   "metadata": {},
   "outputs": [],
   "source": [
    "def Minkowski_d(x1, x2, p=2):\n",
    "    # Assuming we have a list or an array of numbers\n",
    "    # Creating a variable for summation\n",
    "    _sum_=0\n",
    "    # Now we go through every element on the arrays and\n",
    "    # will find the distance and add them  \n",
    "    for x1_, x2_ in zip(x1, x2):\n",
    "        dummy = pow(abs(x1_-x2_), p)\n",
    "        _sum_+=dummy\n",
    "    distance = pow(_sum_, 1/p)\n",
    "    return distance"
   ]
  },
  {
   "cell_type": "code",
   "execution_count": 77,
   "metadata": {},
   "outputs": [
    {
     "data": {
      "text/plain": [
       "118.69076563273113"
      ]
     },
     "execution_count": 77,
     "metadata": {},
     "output_type": "execute_result"
    }
   ],
   "source": [
    "Minkowski_d(np.linspace(1,100,200), np.zeros(200), 15)"
   ]
  },
  {
   "cell_type": "markdown",
   "metadata": {},
   "source": [
    "### Continuing on Variability of a cluster:\n",
    "\n",
    "Now if you look at the definition of Variablity, you see that for the special case of Euclidean distance we are just missing a factor of $1/\\sqrt{k}$ in which $k$ is the number of points in a given cluster, from the definition of [variance](https://en.wikipedia.org/wiki/Variance).\n",
    "\n",
    "\n",
    "_What does it mean to not include the number of points in a cluster when calculating variability?_\n",
    "\n",
    "By doing that we are assigning **higher variability** to the **larger** cluster than the smaller cluster of the **same variance**.\n",
    "\n"
   ]
  },
  {
   "cell_type": "markdown",
   "metadata": {},
   "source": [
    "You may have guessed by now, that we are trying to come up with an objective function for our optimization problem. So we can ask for a set of clusters that would minimize the dissimilarity of the clusters.\n",
    "\n",
    "But if we put a cluster on each point, we are going to get zero dissimilarity which obviously is not a useful answer. For avoiding this we need to define a constraint; for example, we can constrain the total distance between clusters to be smaller than some value, or enforce a maximum number for clusters.\n",
    "\n"
   ]
  },
  {
   "cell_type": "markdown",
   "metadata": {},
   "source": [
    "# Hierarchical Clustering:"
   ]
  },
  {
   "cell_type": "markdown",
   "metadata": {},
   "source": [
    "In this method of clustering we do the following:\n",
    "\n",
    "_Naive algorithm:_\n",
    "\n",
    "1. Assign a cluster to each point, so $N$ clusters for $N$ points.\n",
    "\n",
    "2. Find the most similar clusters and merge them together. Now we have $N-1$ clusters.\n",
    "\n",
    "3. We do the second part untill we get to a cluster that contains all of the $N$ points.\n",
    "\n",
    "\n",
    "This is the [Agglomerative hierarchical clustering](https://en.wikipedia.org/wiki/Hierarchical_clustering#Agglomerative_clustering_example).\n",
    " "
   ]
  },
  {
   "cell_type": "markdown",
   "metadata": {},
   "source": [
    "Now we need to quantify what we mean by similarity (linkage) of two clusters.\n",
    "\n",
    "\n",
    "These are **Linkage Metrics**:\n",
    "\n",
    "1. **Single-linkage**:  It is the shortest distance between any member of one cluster and any memeber of another.\n",
    "\n",
    "\n",
    "2. **Complete Linkage**: It is the greatest distance between any member of one cluster and any memeber of another.\n",
    "\n",
    "\n",
    "3. **Average Linkage**: It is the average distance between any member of one cluster and any memeber of another."
   ]
  },
  {
   "cell_type": "markdown",
   "metadata": {},
   "source": [
    "This is completely deterministic for a given linkage metric.\n",
    "\n",
    "\n",
    "The answer might not be optimal, since the hierarchical clustering is a **greedy algorithm**. In other words, your answer could be optimal but not globally optimal. \n",
    "\n",
    "\n",
    "However, this can become very slow and the number of calculations grows with $O(N^3)$ which can becomes useless quickly. \n",
    "\n",
    "_However for some linkage metrics (i.e. single-linkage), there exist $O(N^2)$ algorithms but still not very fast._"
   ]
  },
  {
   "cell_type": "markdown",
   "metadata": {},
   "source": [
    "# k-means clustering:\n",
    "\n",
    "If you know how many clusters you want then this is going to be a better choice since it is much faster. ($k$ is the number of clusters we want)"
   ]
  },
  {
   "cell_type": "markdown",
   "metadata": {},
   "source": [
    "```algorithm\n",
    "1. Start by randomly choosing k examples \n",
    "           as our intial centeroid. \n",
    "\n",
    "2. create k clusters by assiging examples \n",
    "           to closest cendroid.\n",
    "           \n",
    "3. Assign a new values for the centeroid: \n",
    "           The average of previous cluster configuration.\n",
    "    \n",
    "4. Go to (2) while centroids are changing, else break.\n",
    "           We have our final configuration.\n",
    "           \n",
    "```  \n"
   ]
  },
  {
   "cell_type": "markdown",
   "metadata": {},
   "source": [
    "**_Important:_** Notice that the algorithm is not deterministic and the result can change by choosing another initial configuration."
   ]
  },
  {
   "cell_type": "markdown",
   "metadata": {},
   "source": [
    "_How much time it takes to run the algorithm once before getting to the 4th line?_\n",
    "\n",
    "For $N$ and $k$ clusters we need to find $kN$ distances. Which is much smaller than $O(N^2)$. Also, we will see that we do not need to go through many iteration to converge. (Relative to $N$)"
   ]
  },
  {
   "cell_type": "code",
   "execution_count": 279,
   "metadata": {},
   "outputs": [
    {
     "data": {
      "image/png": "[encoded data removed]",
      "text/plain": [
       "<Figure size 432x288 with 1 Axes>"
      ]
     },
     "metadata": {
      "needs_background": "light"
     },
     "output_type": "display_data"
    }
   ],
   "source": [
    "plt.plot(x1, y1, \"b.\")\n",
    "plt.plot(x2, y2, \"b.\")\n",
    "\n",
    "plt.show()"
   ]
  },
  {
   "cell_type": "markdown",
   "metadata": {},
   "source": [
    "These are some 2-d data points and you want to find a clustering for them."
   ]
  },
  {
   "cell_type": "markdown",
   "metadata": {},
   "source": [
    "## Let's define some classes!\n",
    "\n",
    "\n",
    "First class is `Point` which contains information about a given data point:"
   ]
  },
  {
   "cell_type": "code",
   "execution_count": 280,
   "metadata": {},
   "outputs": [],
   "source": [
    "class Point:\n",
    "    def __init__(self, features, label = None, \\\n",
    "                 name = \"Unassigned\"):\n",
    "        self.name = name\n",
    "        self.features = features\n",
    "        self.label = label\n",
    "        \n",
    "    # get the dimensionality of the features\n",
    "    def get_dimension(self):\n",
    "        return len(self.features)\n",
    "    \n",
    "    def get_features(self):\n",
    "        return self.features\n",
    "    \n",
    "    def get_label(self):\n",
    "        return self.label\n",
    "    \n",
    "    def get_name(self):\n",
    "        return self.name\n",
    "    \n",
    "    def distance_Minkowski(self, other, p = 2):\n",
    "        return Minkowski_d(self.features, other.get_features(), p)\n",
    "\n",
    "    def get_norm(self, p = 2):\n",
    "        _zero_=[0 for _ in range(self.get_dimension())]\n",
    "        return Minkowski_d(self.features, _zero_, p)\n",
    "    \n",
    "    def __str__(self):\n",
    "        return self.name +\" : \"+ str(self.features) + ' : '\\\n",
    "               + str(self.label)"
   ]
  },
  {
   "cell_type": "markdown",
   "metadata": {},
   "source": [
    "Our second class is the class of `Cluster`, which contains several data points. (`Point` objects)"
   ]
  },
  {
   "cell_type": "code",
   "execution_count": 286,
   "metadata": {},
   "outputs": [],
   "source": [
    "class Cluster:\n",
    "    def __init__(self, points):\n",
    "        self.points = points\n",
    "        self.centroid = self.find_centroid()\n",
    "        \n",
    "    def find_centroid(self):\n",
    "        _sum_ = np.zeros(self.points[0].get_dimension())\n",
    "        for point in self.points:\n",
    "            _sum_+=np.array(point.get_features())\n",
    "        Centroid_vec = _sum_/len(self.points)\n",
    "        centroid = Point(Centroid_vec, name = \"Centroid\")\n",
    "        return centroid\n",
    "    \n",
    "    def update(self, points):\n",
    "        # Keep the old centroid\n",
    "        previous_centroid = self.centroid\n",
    "        # Update the Cluster attribiutes\n",
    "        self.points = points\n",
    "        self.centroid = self.find_centroid()\n",
    "        return self.centroid.distance_Minkowski(previous_centroid)\n",
    "    \n",
    "    def variability(self, p = 2):\n",
    "        _sum_distances_=0\n",
    "        for point in self.points:\n",
    "            _sum_distances_ += point.distance_Minkowski(self.centroid, p)\n",
    "        return _sum_distances_\n",
    "    \n",
    "    \n",
    "    def Elements(self):\n",
    "        for point in points:\n",
    "            yield point\n",
    "            \n",
    "    def __str__(self):\n",
    "        names = []\n",
    "        for point in self.points:\n",
    "            names.append(point.get_name())\n",
    "        names.sort()\n",
    "        info = \"Cluster Centroid: \" \\\n",
    "               + str(self.centroid.features) +  \"contains:\" + \"\\n\"\n",
    "        for name in names:\n",
    "            info = info + name + \", \"\n",
    "        return info[:-2] #remove trailing comma and space           "
   ]
  },
  {
   "cell_type": "code",
   "execution_count": 288,
   "metadata": {},
   "outputs": [],
   "source": [
    "def Dissimilarity(_clusters_, p = 2):\n",
    "    _tot_vari = 0\n",
    "    for _clusters_ in _clusters_:\n",
    "        _tot_vari += _clusters_.variability(p)\n",
    "    return _tot_vari\n",
    "\n",
    "\n",
    "# This is called Z-scaling\n",
    "def scale_feature(_feature_):\n",
    "    _f_ = np.array(_feature_)\n",
    "    zero_f_ = _f_ - np.average(_f_)\n",
    "    std = np.std(_f_)\n",
    "    return zero_f_/std"
   ]
  },
  {
   "cell_type": "markdown",
   "metadata": {},
   "source": [
    "Let's download a delivery fleet data set:\n",
    "[data set](https://raw.githubusercontent.com/datascienceinc/learn-data-science/master/Introduction-to-K-means-Clustering/Data/data_1024.csv)"
   ]
  },
  {
   "cell_type": "code",
   "execution_count": 300,
   "metadata": {},
   "outputs": [],
   "source": [
    "data = {}\n",
    "\n",
    "with open(\"data_drivers.txt\", 'r') as f:\n",
    "    lines = f.readlines()\n",
    "    header = lines[0].split()\n",
    "    \n",
    "    for i, col in enumerate(header):\n",
    "        x = []\n",
    "        for line in lines[1:]:\n",
    "            x.append(float(line.split()[i]))\n",
    "            data[col] = x"
   ]
  },
  {
   "cell_type": "code",
   "execution_count": 303,
   "metadata": {},
   "outputs": [
    {
     "data": {
      "text/plain": [
       "dict_keys(['Driver_ID', 'Distance_Feature', 'Speeding_Feature'])"
      ]
     },
     "execution_count": 303,
     "metadata": {},
     "output_type": "execute_result"
    }
   ],
   "source": [
    "data.keys()"
   ]
  },
  {
   "cell_type": "code",
   "execution_count": 305,
   "metadata": {},
   "outputs": [
    {
     "data": {
      "image/png": "[encoded data removed]",
      "text/plain": [
       "<Figure size 432x288 with 1 Axes>"
      ]
     },
     "metadata": {
      "needs_background": "light"
     },
     "output_type": "display_data"
    }
   ],
   "source": [
    "plt.scatter(data[\"Distance_Feature\"], data[\"Speeding_Feature\"])\n",
    "\n",
    "plt.show()"
   ]
  },
  {
   "cell_type": "code",
   "execution_count": 307,
   "metadata": {},
   "outputs": [],
   "source": [
    "_points_ = []\n",
    "\n",
    "for i in range(len(data[\"Driver_ID\"])):\n",
    "    features = [data[\"Distance_Feature\"][i], data[\"Speeding_Feature\"][i]]\n",
    "    P = Point(features, name = data[\"Driver_ID\"][i])\n",
    "    _points_.append(P)"
   ]
  },
  {
   "cell_type": "code",
   "execution_count": 318,
   "metadata": {},
   "outputs": [],
   "source": [
    "def kmeans(points, k, verbose = False):\n",
    "    # Get k random initial centroids, create cluster for each\n",
    "    initial_centroids = random.sample(points, k)\n",
    "    clusters = []\n",
    "    for centroid in initial_centroids:\n",
    "        clusters.append(Cluster([centroid]))\n",
    "        \n",
    "    #Iterate until centroids don't move\n",
    "    converged = False\n",
    "    number_iterations = 0\n",
    "    while not converged:\n",
    "        number_iterations += 1\n",
    "        #Create a list containing k distinct empty lists\n",
    "        new_clusters = []\n",
    "        for i in range(k):\n",
    "            new_clusters.append([])\n",
    "            \n",
    "        # Associate each example with closest centroid\n",
    "        for p in points:\n",
    "            # Find the closest centroid\n",
    "            smallest_distance = p.distance_Minkowski(clusters[0].find_centroid())\n",
    "            idi = 0\n",
    "            for i in range(1, k):\n",
    "                distance = p.distance_Minkowski(clusters[i].find_centroid())\n",
    "                if distance < smallest_distance:\n",
    "                    smallest_distance = distance\n",
    "                    idi = i\n",
    "            #Add p to the list of examples for appropriate cluster\n",
    "            new_clusters[idi].append(p)\n",
    "            \n",
    "        for c in new_clusters: # Avoid having empty clusters\n",
    "            if len(c) == 0:\n",
    "                raise ValueError('Empty Cluster')\n",
    "        \n",
    "        # Update each cluster; check if a centroid has changed\n",
    "        converged = True\n",
    "        for i in range(k):\n",
    "            if clusters[i].update(new_clusters[i]) > 0.0:\n",
    "                converged = False\n",
    "        if verbose:\n",
    "            print('Iteration #' + str(number_iterations))\n",
    "            for c in clusters:\n",
    "                print(c)\n",
    "            print('') #add blank line\n",
    "    return clusters\n"
   ]
  },
  {
   "cell_type": "code",
   "execution_count": 320,
   "metadata": {},
   "outputs": [],
   "source": [
    "clusters = kmeans(_points_, 2)"
   ]
  },
  {
   "cell_type": "code",
   "execution_count": 333,
   "metadata": {},
   "outputs": [
    {
     "data": {
      "image/png": "[encoded data removed]",
      "text/plain": [
       "<Figure size 432x288 with 1 Axes>"
      ]
     },
     "metadata": {
      "needs_background": "light"
     },
     "output_type": "display_data"
    }
   ],
   "source": [
    "color = \"b\"\n",
    "for cluster in clusters:\n",
    "    for p in list(cluster.points):\n",
    "        plt.scatter(p.get_features()[0], p.get_features()[1], color = color)\n",
    "    color = \"r\"\n",
    "    plt.scatter(cluster.find_centroid().get_features()[0], cluster.find_centroid().get_features()[1], color = \"k\")\n"
   ]
  },
  {
   "cell_type": "code",
   "execution_count": 334,
   "metadata": {},
   "outputs": [
    {
     "data": {
      "image/png": "[encoded data removed]",
      "text/plain": [
       "<Figure size 432x288 with 1 Axes>"
      ]
     },
     "metadata": {
      "needs_background": "light"
     },
     "output_type": "display_data"
    }
   ],
   "source": [
    "clusters = kmeans(_points_, 4)\n",
    "\n",
    "colors = [\"b\", \"r\", \"c\", \"purple\"]\n",
    "for i, cluster in enumerate(clusters):\n",
    "    for p in list(cluster.points):\n",
    "        plt.scatter(p.get_features()[0], p.get_features()[1], color = colors[i])\n",
    "    plt.scatter(cluster.find_centroid().get_features()[0], cluster.find_centroid().get_features()[1], color = \"k\")\n",
    "\n"
   ]
  },
  {
   "cell_type": "markdown",
   "metadata": {},
   "source": [
    "### How can we determine the number of clusters ($k$)?\n",
    "\n",
    "\n",
    "1. Usually we use our prior knowledge about the data. \n",
    "   * There are six type of plants. $k=6$\n",
    "   * There are five personality types. $k=5$\n",
    "   * There are two kinds of galaxy mergers. $k=2$\n",
    "\n",
    "\n",
    "2. Searching for $k$\n",
    "   * We can search through different values of $k$ and find the optimal.\n",
    "   * Using hierarchial clustering on subset of data"
   ]
  },
  {
   "cell_type": "markdown",
   "metadata": {},
   "source": [
    "### How can we make sure that we are not using a bad initial centroid?\n",
    "\n",
    "```algorithm\n",
    "   Choose multiple sets of initial centroid at random\n",
    "\n",
    "   Run the k-means algorithm on above initial centroids\n",
    "  and find the solutions. Select the set of clusters for \n",
    "  which Dissimilarity (D(C)) would be minimized, at least\n",
    "  for our set of solutions. \n",
    "\n",
    "\n",
    "```"
   ]
  },
  {
   "cell_type": "code",
   "execution_count": null,
   "metadata": {},
   "outputs": [],
   "source": []
  },
  {
   "cell_type": "code",
   "execution_count": null,
   "metadata": {},
   "outputs": [],
   "source": []
  },
  {
   "cell_type": "code",
   "execution_count": null,
   "metadata": {},
   "outputs": [],
   "source": []
  },
  {
   "cell_type": "code",
   "execution_count": null,
   "metadata": {},
   "outputs": [],
   "source": []
  },
  {
   "cell_type": "code",
   "execution_count": 271,
   "metadata": {},
   "outputs": [],
   "source": [
    "_num_ = 100\n",
    "_points_= []\n",
    "\n",
    "np.random.seed(9)\n",
    "\n",
    "\n",
    "for i in range(_num_):\n",
    "    _p_ = Point(np.random.randint(0, 100, 2), str(i))\n",
    "    _points_.append(_p_)"
   ]
  },
  {
   "cell_type": "code",
   "execution_count": 272,
   "metadata": {},
   "outputs": [],
   "source": [
    "D = Cluster(_points_)"
   ]
  },
  {
   "cell_type": "code",
   "execution_count": 278,
   "metadata": {},
   "outputs": [
    {
     "data": {
      "image/png": "[encoded data removed]",
      "text/plain": [
       "<Figure size 432x288 with 1 Axes>"
      ]
     },
     "metadata": {
      "needs_background": "light"
     },
     "output_type": "display_data"
    }
   ],
   "source": [
    "for point_ in _points_:\n",
    "    plt.scatter(point_.features[0], point_.features[1], c = 'b')\n",
    "\n",
    "plt.scatter(D.centroid.features[0], D.centroid.features[0], c = \"r\", marker=\"^\")\n",
    "\n",
    "plt.show()"
   ]
  },
  {
   "cell_type": "code",
   "execution_count": null,
   "metadata": {},
   "outputs": [],
   "source": []
  },
  {
   "cell_type": "code",
   "execution_count": null,
   "metadata": {},
   "outputs": [],
   "source": []
  }
 ],
 "metadata": {
  "kernelspec": {
   "display_name": "Python 3",
   "language": "python",
   "name": "python3"
  },
  "language_info": {
   "codemirror_mode": {
    "name": "ipython",
    "version": 3
   },
   "file_extension": ".py",
   "mimetype": "text/x-python",
   "name": "python",
   "nbconvert_exporter": "python",
   "pygments_lexer": "ipython3",
   "version": "3.7.3"
  }
 },
 "nbformat": 4,
 "nbformat_minor": 2
}
