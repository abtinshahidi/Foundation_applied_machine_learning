{
 "cells": [
  {
   "cell_type": "markdown",
   "metadata": {},
   "source": [
    "# **The Foundation of Applied Machine Learning**\n",
    "## Spring 2019\n",
    "\n",
    "### Instructor: [**Prof. Bahram Mobasher**](http://faculty.ucr.edu/~mobasher/)\n",
    "### Teaching Assistance: [**Abtin Shahidi**](https://abtinshahidi.github.io/) email *abtin.shahidi--at--email.ucr.edu*\n",
    "\n",
    "### Course webpage: [https://abtinshahidi.github.io/teaching/2019-spring-foundation-machine-learning](https://abtinshahidi.github.io/teaching/2019-spring-foundation-machine-learning)\n",
    "\n"
   ]
  },
  {
   "cell_type": "markdown",
   "metadata": {},
   "source": [
    "# **Week 8**\n",
    "\n",
    "## Machine Learning: Neural Nets \n"
   ]
  },
  {
   "cell_type": "markdown",
   "metadata": {},
   "source": [
    "Let's continue on our discussion about decision trees:"
   ]
  },
  {
   "cell_type": "code",
   "execution_count": 1,
   "metadata": {},
   "outputs": [],
   "source": [
    "import numpy as np \n",
    "import random \n",
    "import matplotlib.pyplot as plt\n",
    "\n",
    "# font parameters dictionary\n",
    "font = {'family' : 'serif',\n",
    "        'weight' : 'bold',\n",
    "        'size'   : 18,}\n",
    "\n",
    "\n",
    "# figure parameters dictionary\n",
    "figure = {\"figsize\" : (6,6),\n",
    "          \"dpi\" : 120,\n",
    "          \"facecolor\" : \"w\", \n",
    "          \"edgecolor\" : \"k\",}\n",
    "\n",
    "\n",
    "\n",
    "# use LaTeX fonts in the plot\n",
    "plt.rc('text', usetex=True)\n",
    "\n",
    "# ticks settings\n",
    "plt.rc('xtick',labelsize=10)\n",
    "plt.rc('ytick',labelsize=10)\n",
    "\n",
    "# axes setting\n",
    "plt.rc('axes', titlesize=22, labelsize=18)     # fontsize of the axes title, labels\n",
    "\n",
    "# Set the font parameters\n",
    "plt.rc('font', **font) \n",
    "\n",
    "# Set the figure parameters \n",
    "plt.rc(\"figure\", **figure) "
   ]
  },
  {
   "cell_type": "markdown",
   "metadata": {},
   "source": [
    "# Feed Forward Networks:\n"
   ]
  },
  {
   "cell_type": "code",
   "execution_count": 2,
   "metadata": {},
   "outputs": [],
   "source": [
    "from Data_Set import Data_Set\n",
    "\n",
    "address = \"iris.data\"\n",
    "attribute_names = [\"sepal-lenght\", \"sepal-width\", \"petal-lenght\", \"petal-width\", \"class\"]\n",
    "Iris_Data = Data_Set(name = \"Iris\", target_attribute=4,\n",
    "                     file_info=(address, 0, \",\"), attribute_names=attribute_names)\n",
    "\n",
    "train, test = Iris_Data.train_test_split()"
   ]
  },
  {
   "cell_type": "code",
   "execution_count": 3,
   "metadata": {},
   "outputs": [
    {
     "data": {
      "text/plain": [
       "['Iris-versicolor', 'Iris-virginica', 'Iris-setosa']"
      ]
     },
     "execution_count": 3,
     "metadata": {},
     "output_type": "execute_result"
    }
   ],
   "source": [
    "Iris_Data.values[Iris_Data.target_attribute]"
   ]
  },
  {
   "cell_type": "code",
   "execution_count": 4,
   "metadata": {},
   "outputs": [],
   "source": [
    "train, test = Iris_Data.train_test_split()"
   ]
  },
  {
   "cell_type": "code",
   "execution_count": 5,
   "metadata": {},
   "outputs": [
    {
     "data": {
      "text/plain": [
       "['Iris-versicolor', 'Iris-virginica', 'Iris-setosa']"
      ]
     },
     "execution_count": 5,
     "metadata": {},
     "output_type": "execute_result"
    }
   ],
   "source": [
    "test.values[-1]"
   ]
  },
  {
   "cell_type": "code",
   "execution_count": 6,
   "metadata": {},
   "outputs": [],
   "source": [
    "def dot(X, Y):\n",
    "    \"\"\"\n",
    "    A simple dot product on X, and Y\n",
    "    \n",
    "    Return the sum of the element-wise product of vectors X and Y.\n",
    "    \"\"\"\n",
    "    return sum(x * y for x, y in zip(X, Y))\n",
    "\n",
    "def add_vectors(a, b):\n",
    "    \"\"\"addition of two vectors by adding every component.\"\"\"\n",
    "    from operator import add\n",
    "    return tuple(map(add, a, b))\n",
    "\n",
    "\n",
    "def porduct_scalar_vector(X, Y):\n",
    "    \"\"\"Return vector as a product of a scalar and a vector\"\"\"\n",
    "    return [X * y for y in Y]\n",
    "\n",
    "\n",
    "def softmax(X, j):\n",
    "    from math import exp\n",
    "    d = sum([exp(x) for x in X])\n",
    "    return exp(X[j])/d\n",
    "\n",
    "def softmax_derivative(X, dj, i):\n",
    "    if dj == i:\n",
    "        return X[i] * (1 - X[j])\n",
    "    else:\n",
    "        return - X[i] * X[j]\n",
    "        \n",
    "def stablesoftmax(x):\n",
    "    \"\"\"Compute the softmax of vector x in a numerically stable way.\"\"\"\n",
    "    import numpy as np\n",
    "    shiftx = x - np.max(x)\n",
    "    exps = np.exp(shiftx)\n",
    "    return exps / np.sum(exps)\n",
    "\n",
    "def sigmoid(x):\n",
    "    \"\"\"Sigmoid function activation\"\"\"\n",
    "    from math import exp\n",
    "    try:\n",
    "        return 1 / (1 + exp(-x))\n",
    "    except OverflowError:\n",
    "        from numpy import exp\n",
    "        return 1 / (1 + exp(-x))\n",
    "\n",
    "def sigmoid_derivative(value):\n",
    "    return value * (1 - value)\n",
    "\n",
    "\n",
    "\n",
    "def rectified_LU(x):\n",
    "    \"\"\"\n",
    "    Rectified Linear Unit (ReLU) activation\n",
    "    \"\"\"\n",
    "    return max(0, x)\n",
    "\n",
    "def rectified_LU_derivative(value):\n",
    "    if value > 0:\n",
    "        return 1\n",
    "    else:\n",
    "        return 0\n",
    "\n",
    "\n",
    "    \n",
    "def exponential_LU(x, alpha=0.01):\n",
    "    \"\"\"\n",
    "    Exponential Linear Unit (ELU) activation\n",
    "    \"\"\"\n",
    "    from math import exp\n",
    "    if x > 0:\n",
    "        return x\n",
    "    else:\n",
    "        return alpha * (exp(x) - 1)\n",
    "\n",
    "    \n",
    "def exponential_LU_derivative(value, alpha = 0.01):\n",
    "    from math import exp\n",
    "    if value > 0:\n",
    "        return 1\n",
    "    else:\n",
    "        return alpha * exp(value) \n",
    "#########################\n",
    "    \n",
    "def tanh(x):\n",
    "    \"\"\"\n",
    "    Hyperbolic tangent activation\n",
    "    \"\"\"\n",
    "    from numpy import tanh\n",
    "    return tanh(x)\n",
    "\n",
    "def tanh_derivative(value):\n",
    "    return (1 - (value ** 2))\n",
    "\n",
    "\n",
    "\n",
    "\n",
    "def leaky_ReLU(x, alpha = 0.01):\n",
    "    \"\"\"\n",
    "    Leaky Rectified Linear Unit activation\n",
    "    \"\"\"\n",
    "    if x > 0:\n",
    "        return x\n",
    "    else:\n",
    "        return alpha * x\n",
    "\n",
    "def leaky_ReLU_derivative(value, alpha=0.01):\n",
    "    if value > 0:\n",
    "        return 1\n",
    "    else:\n",
    "        return alpha\n",
    "\n",
    "\n",
    "\n",
    "def step(x):\n",
    "    \"\"\"sign function activation \"\"\"\n",
    "    return 1 if x >= 0 else 0\n",
    "\n",
    "\n",
    "\n",
    "def find_max_neuron(neurons):\n",
    "    return neurons.index(max(neurons, key=lambda neuron: neuron.value))\n",
    "\n",
    "def find_softmax(neurons):\n",
    "    vals = [neuron.value for neuron in neurons]\n",
    "    softmax_list = [softmax(vals, i) for i in range(len(vals))]\n",
    "    return softmax_list\n",
    "\n",
    "\n",
    "\n",
    "def random_weights(min_value, max_value, num_weights):\n",
    "    from random import uniform\n",
    "    return [uniform(min_value, max_value) for _ in range(num_weights)]\n",
    "\n",
    "\n",
    "def initilize_examples(examples, idx_inputs, idx_output, output_neurons):\n",
    "    \"\"\"\n",
    "    Initialize the examples and find the inputs and modidied output \n",
    "    \n",
    "    If the output has N distinct classes the output will be:\n",
    "    \n",
    "    an array of lenght N:\n",
    "    \n",
    "        [0, 0, 0, 0, ..., 1, ..., 0, 0]\n",
    "        1 is at j which is a number associated with our classes  \n",
    "\n",
    "    \"\"\"\n",
    "    # a dictionary for putting the inputs and outputs \n",
    "    inputs, outputs = {}, {}\n",
    "    \n",
    "    # Finding a list of output values (str, int, float)\n",
    "    values = [example[idx_output] for example in examples]\n",
    "    \n",
    "    # Find the distinct values, which are our classes\n",
    "    # Remmeber that for float values this cannot be \n",
    "    # an effient classifications if the variety of the \n",
    "    # values is large\n",
    "    classes = list(set(values))\n",
    "    print(\"The starting classes are: \", classes) \n",
    "    \n",
    "    # Go through every example in the list of examples\n",
    "    for i, example in enumerate(examples):\n",
    "        # find the input values of i'th example \n",
    "        inputs[i] = [example[j] for j in idx_inputs]\n",
    "        \n",
    "        # if we have more than one neuron for output\n",
    "        if output_neurons > 1:\n",
    "            # Check whether the number of output neurons\n",
    "            # and classes are the same\n",
    "            assert output_neurons == len(classes), \"Number of classes {} is not equal \\\n",
    "            to Number of output neurons {}\".format(len(classes), output_neurons)\n",
    "            \n",
    "            # Go through different classes and find the \n",
    "            # one for this example, and assign a number \n",
    "            # to it\n",
    "            for j, class_ in enumerate(classes):\n",
    "                if example[idx_output]==class_:\n",
    "                    example[idx_output] = j\n",
    "            \n",
    "            # One-Hot representation of example's output\n",
    "            t = [0 for i in range(output_neurons)]\n",
    "            t[example[idx_output]] = 1\n",
    "            outputs[i] = t\n",
    "        else:\n",
    "            # Output value of example\n",
    "            outputs[i] = [example[idx_output]]\n",
    "            \n",
    "    print(\"The assigned classes are: \", list(range(len(classes)))) \n",
    "    return inputs, outputs\n",
    "\n",
    "\n",
    "\n",
    "# import only system from os \n",
    "from os import system, name \n",
    "  \n",
    "# define our clear function \n",
    "def clear(): \n",
    "  \n",
    "    # for windows \n",
    "    if name == 'nt': \n",
    "        _ = system('cls') \n",
    "  \n",
    "    # for mac and linux(here, os.name is 'posix') \n",
    "    else: \n",
    "        _ = system('clear') "
   ]
  },
  {
   "cell_type": "code",
   "execution_count": 7,
   "metadata": {},
   "outputs": [],
   "source": [
    "class Neuron:\n",
    "    \"\"\"\n",
    "    Single Unit of Multiple Layer Neural Network\n",
    "    \n",
    "    inputs: Incoming connections\n",
    "    weights: Weights to incoming connections\n",
    "    \"\"\"\n",
    "\n",
    "    def __init__(self, activation=sigmoid, weights=None, inputs=None, layer=None, number=None):\n",
    "        self.weights = weights or []\n",
    "        self.inputs = inputs or []\n",
    "        self.value = None\n",
    "        self.activation = activation\n",
    "        self.layer = layer \n",
    "        self.num = number\n",
    "        \n",
    "        \n",
    "        \n",
    "class Network:\n",
    "    def __init__(self, input_neurons, hidden_layer_sizes, output_neurons, activation=sigmoid):\n",
    "        network_layers_sizes = [input_neurons] + hidden_layer_sizes + [output_neurons]\n",
    "        self.size = network_layers_sizes\n",
    "        \n",
    "        network = []\n",
    "        for i,layer_size in enumerate(network_layers_sizes):\n",
    "            layer = []\n",
    "            for j in range(layer_size):\n",
    "                layer.append(Neuron(activation, layer=i, number=j))\n",
    "            network.append(layer)  \n",
    "        self.network = network\n",
    "        self.make_connections()\n",
    "        self.hidden_layers = network[1:-1]\n",
    "        self.input_layer = network[0]\n",
    "        self.output_layer = network[-1]\n",
    "        \n",
    "        \n",
    "        \n",
    "    def make_connections(self):\n",
    "        number_of_layers = len(self.network)\n",
    "        # Make Connection between nodes in layers \n",
    "        # Going thorough layer i > 0\n",
    "        for i in range(1, number_of_layers):\n",
    "            # Going through every neurons in the  layer (i)\n",
    "            for neuron_1 in self.network[i]:\n",
    "                # Going through every neurons in the layer (i-1)\n",
    "                 for neuron_2 in self.network[i-1]:\n",
    "                    neuron_1.inputs.append(neuron_2)\n",
    "                    neuron_1.weights.append(0)\n",
    "    \n",
    "    \n",
    "                    "
   ]
  },
  {
   "cell_type": "code",
   "execution_count": 8,
   "metadata": {},
   "outputs": [],
   "source": [
    "def network(input_neurons, hidden_layer_sizes, output_neurons, activation=sigmoid):\n",
    "    \"\"\"\n",
    "    Making a directed acyclic network of given number layers.\n",
    "    \n",
    "    input_neurons : \n",
    "    hidden_layers_sizes : List number of neuron units in each hidden layer\n",
    "    excluding input and output layers\n",
    "    \"\"\"\n",
    "    \n",
    "    network_layers_sizes = [input_neurons] + hidden_layer_sizes + [output_neurons]\n",
    "    \n",
    "    network = []\n",
    "    for layer_size in network_layers_sizes:\n",
    "        layer = []\n",
    "        for i in range(layer_size):\n",
    "            layer.append(Neuron(activation))\n",
    "        network.append(layer)\n",
    "    \n",
    "    number_of_layers = len(network)\n",
    "    \n",
    "    # Make Connection between neurons in layers \n",
    "    # Going thorough layer i > 0\n",
    "    for i in range(1, number_of_layers):\n",
    "        # Going through every neurons in the  layer (i)\n",
    "        for neuron_1 in network[i]:\n",
    "            # Going through every neurons in the layer (i-1)\n",
    "             for neuron_2 in network[i-1]:\n",
    "                neuron_1.inputs.append(neuron_2)\n",
    "                neuron_1.weights.append(0)\n",
    "    return network\n",
    "\n",
    "\n",
    "def random_weights(min_value, max_value, num_weights):\n",
    "    from random import uniform\n",
    "    return [uniform(min_value, max_value) for _ in range(num_weights)]\n",
    "\n",
    "\n",
    "def BackPropagationLearner(dataset, network, learning_rate, epochs, activation=sigmoid, record=False):\n",
    "    \"\"\"The back-propagation algorithm for multilayer networks from:\n",
    "    Aritificial Intelligence: A modern approach by Russell And Norvig,  chapter 18\n",
    "\n",
    "    function  BackPropagationLearner (examples, network ) \n",
    "              returns a neural network\n",
    "              \n",
    "    inputs: examples, a set of examples, each with input   vector x  and output\n",
    "            vector y network , a multilayer network with L layers, weights w_ij\n",
    "            and activation function of g\n",
    "            \n",
    "    local variables: Δ, a vector of errors, indexed by network neurons\n",
    "    \n",
    "    repeat\n",
    "            for each weight wi,j in network do\n",
    "                wi,j ← a small random number\n",
    "            \n",
    "            for each example (x, y) in examples do\n",
    "                # Propagate the inputs forward to compute the outputs \n",
    "                for each neuron i in the input layer do\n",
    "                    ai = xi\n",
    "                for l = 2 to L do\n",
    "                    for each neuron j in layer l do\n",
    "                        value_j = Σ_i w_ij ai\n",
    "                        aj = g(value_j)\n",
    "                \n",
    "                # Propagate deltas backward from output layer to input layer \n",
    "                for each neuron j in the output layer do\n",
    "                    Δ[j] = g'( value_j ) × (yj − aj )\n",
    "\n",
    "\n",
    "                for l = L − 1 to 1 do\n",
    "                    for each neuron i in layer l do\n",
    "                        Δ[i] = g'(in i ) Σ_j w_ij Δ[j]\n",
    "                \n",
    "                # Update every weight in network using deltas \n",
    "                \n",
    "                for each weight w_ij in network do\n",
    "                    w_ij = w_ij + α × ai × Δ[j]\n",
    "                    \n",
    "    until some stopping criterion is satisfied\n",
    "    return network\n",
    "\n",
    "    \n",
    "    \"\"\"\n",
    "    from numpy import dot\n",
    "    # Initialise weights\n",
    "    for layer in network:\n",
    "        for neuron in layer:\n",
    "            neuron.weights = random_weights(min_value=-0.5, max_value=0.5,\n",
    "                                            num_weights=len(neuron.weights))\n",
    "\n",
    "    examples = dataset.examples\n",
    "\n",
    "    # Find the input/output layers\n",
    "    output_layer = network[-1]\n",
    "    input_layer = network[0]\n",
    "\n",
    "    # Find the number of output neurons\n",
    "    output_neurons = len(output_layer)\n",
    "    \n",
    "    # Find the indices for inputs and outputs\n",
    "    idx_output = dataset.target_attribute\n",
    "    idx_inputs = dataset.input_attributes\n",
    "    \n",
    "    # Find the number of layers\n",
    "    number_of_layers = len(network)\n",
    "    \n",
    "    # inputs, outputs from examples\n",
    "    inputs, targets = initilize_examples(examples, idx_inputs, \n",
    "                                         idx_output, output_neurons)\n",
    "\n",
    "    _network_record_keeper = {}\n",
    "    \n",
    "    # going through different epoch of learning\n",
    "    for epoch in range(epochs):\n",
    "        # Save the network at every epoch if record==True\n",
    "        if record:\n",
    "            _network_record_keeper[epoch] = Network\n",
    "        # Iterate over each example\n",
    "        for i in range(len(examples)):\n",
    "            input_values = inputs[i]\n",
    "            target = targets[i]\n",
    "\n",
    "            # Activate the input layer\n",
    "            for value, neuron in zip(input_values, input_layer):\n",
    "                neuron.value = value\n",
    "\n",
    "            # Forward pass and activate neurons\n",
    "            for layer in network[1:]:\n",
    "                for neuron in layer:\n",
    "                    input_values_list = [n.value for n in neuron.inputs]\n",
    "                    dot0 = dot(input_values_list, neuron.weights)\n",
    "                    neuron.value = neuron.activation(dot0)\n",
    "\n",
    "            # Initialize delta for storing the errors\n",
    "            delta = [[] for _ in range(number_of_layers)]\n",
    "\n",
    "            # Compute last layer's error (Δ_k/)\n",
    "            # Error for the Mean Squared Error (MSE) cost function\n",
    "            error = [target[i] - output_layer[i].value for i in range(output_neurons)]\n",
    "\n",
    "            # Calculate delta at output with different activation functions\n",
    "            # =======\n",
    "            # Sigmoid \n",
    "            if neuron.activation == sigmoid:\n",
    "                delta[-1] = [sigmoid_derivative(output_layer[i].value) * error[i] for i in range(output_neurons)]\n",
    "            # rectified_LU \n",
    "            elif neuron.activation == rectified_LU:\n",
    "                delta[-1] = [rectified_LU_derivative(output_layer[i].value) * error[i] for i in range(output_neurons)]\n",
    "            # Hyperbolic tangent      \n",
    "            elif neuron.activation == tanh:\n",
    "                delta[-1] = [tanh_derivative(output_layer[i].value) * error[i] for i in range(output_neurons)]\n",
    "            # Exponential_LU \n",
    "            elif neuron.activation == exponential_LU:\n",
    "                delta[-1] = [exponential_LU_derivative(output_layer[i].value) * error[i] for i in range(output_neurons)]\n",
    "            else:\n",
    "                delta[-1] = [leaky_ReLU_derivative(output_layer[i].value) * error[i] for i in range(output_neurons)]\n",
    "\n",
    "\n",
    "            # Find the number of hidden layers\n",
    "            number_of_hidden_layers = number_of_layers - 2\n",
    "            \n",
    "            # Going Backward (Back propagation)\n",
    "            for i in range(number_of_hidden_layers, 0, -1):\n",
    "                # what is the current layer\n",
    "                layer = network[i]\n",
    "                # Find number of neurons at this layer\n",
    "                number_of_neurons = len(layer)\n",
    "                # Find the next layer\n",
    "                next_layer = network[i+1]\n",
    "\n",
    "                # weights from each of layer (i) neurons to each layer (i + 1) neurons\n",
    "                w = [[neuron.weights[k] for neuron in next_layer] for k in range(number_of_neurons)]\n",
    "\n",
    "                # Calculate delta at output with different activation functions\n",
    "                if activation == sigmoid:\n",
    "                    err = []\n",
    "                    # going through all the neurons to find the assosciated errors\n",
    "                    for j in range(number_of_neurons):\n",
    "                        e = sigmoid_derivative(layer[j].value) * dot(w[j], delta[i+1])\n",
    "                        err.append(e)\n",
    "                    delta[i] = err\n",
    "\n",
    "                elif activation == rectified_LU:\n",
    "                    err = []\n",
    "                    # going through all the neurons to find the assosciated errors\n",
    "                    for j in range(number_of_neurons):\n",
    "                        e = sigmoid_derivative(layer[j].value) * dot(w[j], delta[i+1])\n",
    "                        err.append(e)\n",
    "                    delta[i] = err\n",
    "                    \n",
    "                elif activation == tanh:\n",
    "                    err = []\n",
    "                    # going through all the neurons to find the assosciated errors\n",
    "                    for j in range(number_of_neurons):\n",
    "                        e = tanh_derivative(layer[j].value) * dot(w[j], delta[i+1])\n",
    "                        err.append(e)\n",
    "                    delta[i] = err\n",
    "\n",
    "                elif activation == exponential_LU:\n",
    "                    err = []\n",
    "                    # going through all the neurons to find the assosciated errors\n",
    "                    for j in range(number_of_neurons):\n",
    "                        e = exponential_LU_derivative(layer[j].value) * dot(w[j], delta[i+1])\n",
    "                        err.append(e)\n",
    "                    delta[i] = err\n",
    "                    \n",
    "                else: # Use the leaky ReLU activation function \n",
    "                    err = []\n",
    "                    # going through all the neurons to find the assosciated errors\n",
    "                    for j in range(number_of_neurons):\n",
    "                        e = leaky_ReLU_derivative(layer[j].value) * dot(w[j], delta[i+1])\n",
    "                        err.append(e)\n",
    "                    delta[i] = err\n",
    "\n",
    "            #  Now that we have all the deltas let's update our weights\n",
    "            for i in range(1, number_of_layers):\n",
    "                layer = network[i]\n",
    "                previous_layer_values = [neuron.value for neuron in network[i-1]]\n",
    "                number_of_neurons = len(layer)\n",
    "                \n",
    "                for j in range(number_of_neurons):\n",
    "                    # updates vector with the lenght of the previous layers\n",
    "                    updates = porduct_scalar_vector(learning_rate * delta[i][j],\n",
    "                                                    previous_layer_values)\n",
    "                    \n",
    "                    # updates every neurons's weights vector \n",
    "                    layer[j].weights = add_vectors(layer[j].weights, updates)\n",
    "                    \n",
    "\n",
    "    if record:\n",
    "        return _network_record_keeper\n",
    "    else:\n",
    "        return network\n",
    "\n"
   ]
  },
  {
   "cell_type": "code",
   "execution_count": 9,
   "metadata": {},
   "outputs": [],
   "source": [
    "def Neural_Net_Learner(dataset, \n",
    "                       hidden_layer_sizes=[3],\n",
    "                       learning_rate=0.01, \n",
    "                       epochs=100, \n",
    "                       activation=sigmoid, \n",
    "                       softmax_output=False,):\n",
    "    \n",
    "    \"\"\"\n",
    "    Layered feed-forward network.\n",
    "    hidden_layer_sizes: List of number of hidden units per hidden layer\n",
    "    learning_rate: Learning rate of gradient descent\n",
    "    epochs: Number of passes over the dataset\n",
    "    \"\"\"\n",
    "    \n",
    "    # Find the number of input and output neurons based on the dataset\n",
    "    input_neurons = len(dataset.input_attributes)\n",
    "    output_neurons = len(dataset.values[dataset.target_attribute])\n",
    "\n",
    "    # Construct a network with intial random\n",
    "    intital_network = network(input_neurons,\n",
    "                              hidden_layer_sizes, \n",
    "                              output_neurons,\n",
    "                              activation)\n",
    "    \n",
    "    learned_network = BackPropagationLearner(dataset, \n",
    "                                             intital_network,\n",
    "                                             learning_rate, \n",
    "                                             epochs,\n",
    "                                             activation,)\n",
    "                                             \n",
    "\n",
    "    def predict(example):\n",
    "        # Input neurons\n",
    "        input_neurons = learned_network[0]\n",
    "\n",
    "        # Activate input layer\n",
    "        for value, neuron in zip(example, input_neurons):\n",
    "            neuron.value = value\n",
    "\n",
    "        # Forward pass through the layers\n",
    "        for layer in learned_network[1:]:\n",
    "            # going through every neuron in layer\n",
    "            for neuron in layer:\n",
    "                input_values_list = [n.value for n in neuron.inputs]\n",
    "                dot0 = dot(input_values_list, neuron.weights)\n",
    "                neuron.value = neuron.activation(dot0)\n",
    "\n",
    "        # Hypothesis prediction\n",
    "        output_neurons = learned_network[-1]\n",
    "        if softmax_output:\n",
    "            prediction = find_softmax(output_neurons)\n",
    "        else:\n",
    "            prediction = find_max_neuron(output_neurons)\n",
    "        return prediction\n",
    "\n",
    "    return predict\n"
   ]
  },
  {
   "cell_type": "code",
   "execution_count": 10,
   "metadata": {},
   "outputs": [],
   "source": [
    "from Data_Set import Data_Set\n",
    "\n",
    "address = \"iris.data\"\n",
    "attribute_names = [\"sepal-lenght\", \"sepal-width\", \"petal-lenght\", \"petal-width\", \"class\"]\n",
    "Iris_Data = Data_Set(name = \"Iris\", target_attribute=4,\n",
    "                     file_info=(address, 0, \",\"), attribute_names=attribute_names)\n",
    "\n",
    "train, test = Iris_Data.train_test_split()"
   ]
  },
  {
   "cell_type": "code",
   "execution_count": 11,
   "metadata": {},
   "outputs": [
    {
     "name": "stdout",
     "output_type": "stream",
     "text": [
      "The starting classes are:  ['Iris-versicolor', 'Iris-virginica', 'Iris-setosa']\n",
      "The assigned classes are:  [0, 1, 2]\n"
     ]
    }
   ],
   "source": [
    "NN_learner = Neural_Net_Learner(train, hidden_layer_sizes=[8, 5, 2],)"
   ]
  },
  {
   "cell_type": "code",
   "execution_count": 12,
   "metadata": {},
   "outputs": [],
   "source": [
    "# def labeling(x):\n",
    "#     for i, y in enumerate(['Iris-setosa', 'Iris-versicolor', 'Iris-virginica']):\n",
    "#         if x == y:\n",
    "#             return i"
   ]
  },
  {
   "cell_type": "code",
   "execution_count": 13,
   "metadata": {},
   "outputs": [],
   "source": [
    "# pos = []\n",
    "\n",
    "# for t in test.examples:\n",
    "#     inputs = [t[i] for i in test.input_attributes]\n",
    "\n",
    "#     truth = t[test.target_attribute]\n",
    "    \n",
    "#     truth = labeling(truth)\n",
    "#     prediction = NN_learner(inputs)\n",
    "#     pos.append(truth == prediction)\n",
    "\n",
    "# print (\"The accuracy is:\", sum(pos)/len(pos))    "
   ]
  },
  {
   "cell_type": "code",
   "execution_count": 14,
   "metadata": {},
   "outputs": [],
   "source": [
    "centers = [[-2, -2], [5, 5]]\n",
    "sigma = 2\n",
    "size = [500, 50]\n",
    "\n",
    "np.random.seed(12)\n",
    "\n",
    "x0 = centers[0][0] + sigma * np.random.randn(size[0])\n",
    "y0 = centers[0][1] + sigma * np.random.randn(size[0])\n",
    "\n",
    "x1 = centers[1][0] + np.random.randn(size[1])\n",
    "y1 = centers[1][1] + np.random.randn(size[1])\n",
    "\n",
    "examples=[]\n",
    "for i in range(size[0]):\n",
    "    example0 = [x0[i], y0[i], \"r\"]\n",
    "    examples.append(example0)\n",
    "for i in range(size[1]):\n",
    "    example1 = [x1[i], y1[i], \"b\"]\n",
    "    examples.append(example1)\n",
    "    # for i in range(size):\n",
    "#     example1 = [1.5 + x1[i], 2.5 * y1[i], \"b\"]\n",
    "#     examples.append(example1)\n",
    "    \n",
    "\n",
    "Mock_data = Data_Set(examples, target_attribute=2)\n"
   ]
  },
  {
   "cell_type": "code",
   "execution_count": 27,
   "metadata": {},
   "outputs": [
    {
     "name": "stdout",
     "output_type": "stream",
     "text": [
      "The starting classes are:  ['r', 'b']\n",
      "The assigned classes are:  [0, 1]\n"
     ]
    }
   ],
   "source": [
    "NN_learner = Neural_Net_Learner(Mock_data, hidden_layer_sizes=[2], learning_rate=0.03, activation=tanh, epochs=100)"
   ]
  },
  {
   "cell_type": "code",
   "execution_count": 28,
   "metadata": {},
   "outputs": [
    {
     "data": {
      "image/png": "[encoded data removed]",
      "text/plain": [
       "<Figure size 720x720 with 1 Axes>"
      ]
     },
     "metadata": {
      "needs_background": "light"
     },
     "output_type": "display_data"
    }
   ],
   "source": [
    "# plot the predictions\n",
    "x = np.linspace(-10, 10, 40)\n",
    "y = np.linspace(-10, 8, 40)\n",
    "x, y = np.meshgrid(x, y)\n",
    "\n",
    "x = x.ravel()\n",
    "y = y.ravel()\n",
    "\n",
    "X_testing = np.c_[x, y]\n",
    "\n",
    "color = [\"r\", \"b\"]\n",
    "\n",
    "plt.figure(figsize=(10,10))\n",
    "for X in X_testing:\n",
    "    prediction = NN_learner(X)\n",
    "    plt.scatter(X[0], X[1], c=color[prediction], s = 20, alpha=0.2)\n",
    "    \n",
    "plt.plot(x0, y0, \"r.\", markersize=12)\n",
    "plt.plot(x1, y1, \"b.\", markersize=8)\n",
    "\n",
    "plt.show()"
   ]
  },
  {
   "cell_type": "code",
   "execution_count": 29,
   "metadata": {},
   "outputs": [],
   "source": [
    "centers = [[-2, -2], [5, 5]]\n",
    "sigma = 3\n",
    "size = 50\n",
    "\n",
    "np.random.seed(12)\n",
    "\n",
    "x0 = centers[0][0] + sigma * np.random.randn(size)\n",
    "y0 = centers[0][1] + sigma * np.random.randn(size)\n",
    "\n",
    "x1 = centers[1][0] + np.random.randn(size)\n",
    "y1 = centers[1][1] + np.random.randn(size)\n",
    "\n",
    "examples=[]\n",
    "for i in range(size):\n",
    "    example0 = [x0[i], y0[i], \"r\"]\n",
    "    example1 = [x1[i], y1[i], \"b\"]\n",
    "    examples.append(example0)\n",
    "    examples.append(example1)\n",
    "    \n",
    "\n",
    "Mock_data = Data_Set(examples, target_attribute=2)"
   ]
  },
  {
   "cell_type": "code",
   "execution_count": 30,
   "metadata": {},
   "outputs": [
    {
     "name": "stdout",
     "output_type": "stream",
     "text": [
      "The starting classes are:  ['r', 'b']\n",
      "The assigned classes are:  [0, 1]\n"
     ]
    }
   ],
   "source": [
    "NN_learner = Neural_Net_Learner(Mock_data, hidden_layer_sizes=[8], learning_rate=0.03, activation=sigmoid, epochs=100)"
   ]
  },
  {
   "cell_type": "code",
   "execution_count": 31,
   "metadata": {},
   "outputs": [
    {
     "data": {
      "image/png": "[encoded data removed]",
      "text/plain": [
       "<Figure size 720x720 with 1 Axes>"
      ]
     },
     "metadata": {
      "needs_background": "light"
     },
     "output_type": "display_data"
    }
   ],
   "source": [
    "# plot the predictions\n",
    "x = np.linspace(-10, 10, 40)\n",
    "y = np.linspace(-10, 8, 40)\n",
    "x, y = np.meshgrid(x, y)\n",
    "\n",
    "x = x.ravel()\n",
    "y = y.ravel()\n",
    "\n",
    "X_testing = np.c_[x, y]\n",
    "\n",
    "color = [\"r\", \"b\"]\n",
    "\n",
    "plt.figure(figsize=(10,10))\n",
    "for X in X_testing:\n",
    "    prediction = NN_learner(X)\n",
    "    plt.scatter(X[0], X[1], c=color[prediction], s = 20, alpha=0.2)\n",
    "    \n",
    "plt.plot(x0, y0, \"r.\", markersize=20)\n",
    "plt.plot(x1, y1, \"b.\", markersize=20)\n",
    "\n",
    "plt.show()"
   ]
  },
  {
   "cell_type": "code",
   "execution_count": 24,
   "metadata": {},
   "outputs": [
    {
     "name": "stdout",
     "output_type": "stream",
     "text": [
      "The starting classes are:  ['b', 'r']\n",
      "The assigned classes are:  [0, 1]\n"
     ]
    },
    {
     "data": {
      "image/png": "[encoded data removed]",
      "text/plain": [
       "<Figure size 720x720 with 1 Axes>"
      ]
     },
     "metadata": {
      "needs_background": "light"
     },
     "output_type": "display_data"
    }
   ],
   "source": [
    "centers = [[0, 0], [0, 0]]\n",
    "sigma = 14\n",
    "size = [500, 50]\n",
    "\n",
    "np.random.seed(12)\n",
    "\n",
    "x0 = centers[0][0] + sigma * np.random.randn(size[0])\n",
    "y0 = centers[0][1] + sigma * np.random.randn(size[0])\n",
    "\n",
    "ring = x0**2 + y0**2 > sigma**2\n",
    "x0 = x0[ring]\n",
    "y0 = y0[ring]\n",
    "\n",
    "x1 = centers[1][0] + 3 * np.random.randn(size[1])\n",
    "y1 = centers[1][1] + 3 * np.random.randn(size[1])\n",
    "\n",
    "examples=[]\n",
    "for i in range(len(x0)):\n",
    "    example0 = [x0[i], y0[i], \"r\"]\n",
    "    examples.append(example0)\n",
    "    \n",
    "for i in range(size[1]):\n",
    "    example1 = [x1[i], y1[i], \"b\"]\n",
    "    examples.append(example1)\n",
    "\n",
    "Mock_data = Data_Set(examples, target_attribute=2)\n",
    "\n",
    "NN_learner = Neural_Net_Learner(Mock_data, hidden_layer_sizes=[8, 8, 8], learning_rate=0.02, activation=tanh, epochs=200)\n",
    "\n",
    "# plot the predictions\n",
    "x = np.linspace(-50, 50, 40)\n",
    "y = np.linspace(-50, 50, 40)\n",
    "x, y = np.meshgrid(x, y)\n",
    "\n",
    "x = x.ravel()\n",
    "y = y.ravel()\n",
    "\n",
    "X_testing = np.c_[x, y]\n",
    "\n",
    "color = [\"b\", \"r\"]\n",
    "\n",
    "plt.figure(figsize=(10,10))\n",
    "for X in X_testing:\n",
    "    prediction = NN_learner(X)\n",
    "    plt.scatter(X[0], X[1], c=color[prediction], s = 20, alpha=0.2)\n",
    "    \n",
    "plt.plot(x0, y0, \"r.\", markersize=10)\n",
    "plt.plot(x1, y1, \"b.\", markersize=10)\n",
    "\n",
    "plt.show()"
   ]
  },
  {
   "cell_type": "code",
   "execution_count": 48,
   "metadata": {},
   "outputs": [
    {
     "name": "stdout",
     "output_type": "stream",
     "text": [
      "2269 100\n",
      "The starting classes are:  ['b', 'r']\n",
      "The assigned classes are:  [0, 1]\n",
      "The starting classes are:  [0, 1]\n",
      "The assigned classes are:  [0, 1]\n",
      "The starting classes are:  [0, 1]\n",
      "The assigned classes are:  [0, 1]\n",
      "The starting classes are:  [0, 1]\n",
      "The assigned classes are:  [0, 1]\n",
      "The starting classes are:  [0, 1]\n",
      "The assigned classes are:  [0, 1]\n",
      "The starting classes are:  [0, 1]\n",
      "The assigned classes are:  [0, 1]\n",
      "The starting classes are:  [0, 1]\n",
      "The assigned classes are:  [0, 1]\n"
     ]
    },
    {
     "data": {
      "image/png": "[encoded data removed]",
      "text/plain": [
       "<Figure size 720x720 with 1 Axes>"
      ]
     },
     "metadata": {
      "needs_background": "light"
     },
     "output_type": "display_data"
    }
   ],
   "source": [
    "plt.figure(figsize=(10, 10))\n",
    "centers = [[0, 0], [0, 0]]\n",
    "sigma = 14\n",
    "size = [8000, 100]\n",
    "\n",
    "np.random.seed(12)\n",
    "\n",
    "x0 = centers[0][0] + sigma * np.random.randn(size[0])\n",
    "y0 = centers[0][1] + sigma * np.random.randn(size[0])\n",
    "\n",
    "ring = (x0**2 + y0**2 > 2 * sigma**2) * (x0**2 + y0**2 < 5 * sigma**2)\n",
    "x0 = x0[ring]\n",
    "y0 = y0[ring]\n",
    "\n",
    "print(len(x0), len(x1))\n",
    "\n",
    "x1 = centers[1][0] + 3 * np.random.randn(size[1])\n",
    "y1 = centers[1][1] + 3 * np.random.randn(size[1])\n",
    "\n",
    "examples=[]\n",
    "for i in range(len(x0)):\n",
    "    example0 = [x0[i]**2, y0[i]**2, \"r\"]\n",
    "    examples.append(example0)\n",
    "    \n",
    "for i in range(size[1]):\n",
    "    example1 = [x1[i]**2, y1[i]**2, \"b\"]\n",
    "    examples.append(example1)\n",
    "    \n",
    "\n",
    "Mock_data = Data_Set(examples, target_attribute=2)\n",
    "\n",
    "Train, Test = Mock_data.train_test_split()\n",
    "\n",
    "for epochs in [5, 10, 20, 50, 100, 200, 300]:\n",
    "    NN_learner = Neural_Net_Learner(Train, hidden_layer_sizes=[2], learning_rate=0.1, activation=tanh, epochs=epochs)\n",
    "\n",
    "    # plot the accuracy on test\n",
    "    x = np.array(Test.examples).T[0].astype(float)\n",
    "    y = np.array(Test.examples).T[1].astype(float)\n",
    "\n",
    "    truth = np.array(Test.examples).T[2]\n",
    "    predictions = []\n",
    "    for _x_,_y_ in zip(x,y):\n",
    "        predictions.append(NN_learner([_x_, _y_]))\n",
    "\n",
    "    accuracy = [t == p for t,p in zip(truth, predictions)]\n",
    "\n",
    "\n",
    "    plt.scatter(epochs, sum(accuracy)/len(accuracy))"
   ]
  },
  {
   "cell_type": "code",
   "execution_count": 59,
   "metadata": {},
   "outputs": [
    {
     "ename": "TypeError",
     "evalue": "list indices must be integers or slices, not str",
     "output_type": "error",
     "traceback": [
      "\u001b[0;31m---------------------------------------------------------------------------\u001b[0m",
      "\u001b[0;31mTypeError\u001b[0m                                 Traceback (most recent call last)",
      "\u001b[0;32m<ipython-input-59-686835062fb7>\u001b[0m in \u001b[0;36m<module>\u001b[0;34m\u001b[0m\n\u001b[1;32m     26\u001b[0m \u001b[0mMock_data\u001b[0m \u001b[0;34m=\u001b[0m \u001b[0mDataSet\u001b[0m\u001b[0;34m(\u001b[0m\u001b[0mexamples\u001b[0m\u001b[0;34m,\u001b[0m \u001b[0mtarget\u001b[0m\u001b[0;34m=\u001b[0m\u001b[0;36m2\u001b[0m\u001b[0;34m)\u001b[0m\u001b[0;34m\u001b[0m\u001b[0;34m\u001b[0m\u001b[0m\n\u001b[1;32m     27\u001b[0m \u001b[0;34m\u001b[0m\u001b[0m\n\u001b[0;32m---> 28\u001b[0;31m \u001b[0mNN_learner\u001b[0m \u001b[0;34m=\u001b[0m \u001b[0mNeuralNetLearner\u001b[0m\u001b[0;34m(\u001b[0m\u001b[0mMock_data\u001b[0m\u001b[0;34m,\u001b[0m \u001b[0mhidden_layer_sizes\u001b[0m\u001b[0;34m=\u001b[0m\u001b[0;34m[\u001b[0m\u001b[0;36m8\u001b[0m\u001b[0;34m]\u001b[0m\u001b[0;34m,\u001b[0m \u001b[0mlearning_rate\u001b[0m\u001b[0;34m=\u001b[0m\u001b[0;36m0.02\u001b[0m\u001b[0;34m,\u001b[0m \u001b[0mactivation\u001b[0m\u001b[0;34m=\u001b[0m\u001b[0mtanh\u001b[0m\u001b[0;34m,\u001b[0m \u001b[0mepochs\u001b[0m\u001b[0;34m=\u001b[0m\u001b[0;36m200\u001b[0m\u001b[0;34m)\u001b[0m\u001b[0;34m\u001b[0m\u001b[0;34m\u001b[0m\u001b[0m\n\u001b[0m\u001b[1;32m     29\u001b[0m \u001b[0;34m\u001b[0m\u001b[0m\n\u001b[1;32m     30\u001b[0m \u001b[0;31m# plot the predictions\u001b[0m\u001b[0;34m\u001b[0m\u001b[0;34m\u001b[0m\u001b[0;34m\u001b[0m\u001b[0m\n",
      "\u001b[0;32m<ipython-input-58-e021ad34ad35>\u001b[0m in \u001b[0;36mNeuralNetLearner\u001b[0;34m(dataset, hidden_layer_sizes, learning_rate, epochs, activation)\u001b[0m\n\u001b[1;32m     13\u001b[0m     \u001b[0mraw_net\u001b[0m \u001b[0;34m=\u001b[0m \u001b[0mnetwork\u001b[0m\u001b[0;34m(\u001b[0m\u001b[0mi_units\u001b[0m\u001b[0;34m,\u001b[0m \u001b[0mhidden_layer_sizes\u001b[0m\u001b[0;34m,\u001b[0m \u001b[0mo_units\u001b[0m\u001b[0;34m,\u001b[0m \u001b[0mactivation\u001b[0m\u001b[0;34m)\u001b[0m\u001b[0;34m\u001b[0m\u001b[0;34m\u001b[0m\u001b[0m\n\u001b[1;32m     14\u001b[0m     learned_net = BackPropagationLearner(dataset, raw_net,\n\u001b[0;32m---> 15\u001b[0;31m                                          learning_rate, epochs, activation)\n\u001b[0m\u001b[1;32m     16\u001b[0m \u001b[0;34m\u001b[0m\u001b[0m\n\u001b[1;32m     17\u001b[0m     \u001b[0;32mdef\u001b[0m \u001b[0mpredict\u001b[0m\u001b[0;34m(\u001b[0m\u001b[0mexample\u001b[0m\u001b[0;34m)\u001b[0m\u001b[0;34m:\u001b[0m\u001b[0;34m\u001b[0m\u001b[0;34m\u001b[0m\u001b[0m\n",
      "\u001b[0;32m<ipython-input-58-e021ad34ad35>\u001b[0m in \u001b[0;36mBackPropagationLearner\u001b[0;34m(dataset, net, learning_rate, epochs, activation)\u001b[0m\n\u001b[1;32m     63\u001b[0m     \u001b[0mn_layers\u001b[0m \u001b[0;34m=\u001b[0m \u001b[0mlen\u001b[0m\u001b[0;34m(\u001b[0m\u001b[0mnet\u001b[0m\u001b[0;34m)\u001b[0m\u001b[0;34m\u001b[0m\u001b[0;34m\u001b[0m\u001b[0m\n\u001b[1;32m     64\u001b[0m \u001b[0;34m\u001b[0m\u001b[0m\n\u001b[0;32m---> 65\u001b[0;31m     \u001b[0minputs\u001b[0m\u001b[0;34m,\u001b[0m \u001b[0mtargets\u001b[0m \u001b[0;34m=\u001b[0m \u001b[0minit_examples\u001b[0m\u001b[0;34m(\u001b[0m\u001b[0mexamples\u001b[0m\u001b[0;34m,\u001b[0m \u001b[0midx_i\u001b[0m\u001b[0;34m,\u001b[0m \u001b[0midx_t\u001b[0m\u001b[0;34m,\u001b[0m \u001b[0mo_units\u001b[0m\u001b[0;34m)\u001b[0m\u001b[0;34m\u001b[0m\u001b[0;34m\u001b[0m\u001b[0m\n\u001b[0m\u001b[1;32m     66\u001b[0m \u001b[0;34m\u001b[0m\u001b[0m\n\u001b[1;32m     67\u001b[0m     \u001b[0;32mfor\u001b[0m \u001b[0mepoch\u001b[0m \u001b[0;32min\u001b[0m \u001b[0mrange\u001b[0m\u001b[0;34m(\u001b[0m\u001b[0mepochs\u001b[0m\u001b[0;34m)\u001b[0m\u001b[0;34m:\u001b[0m\u001b[0;34m\u001b[0m\u001b[0;34m\u001b[0m\u001b[0m\n",
      "\u001b[0;32m<ipython-input-58-e021ad34ad35>\u001b[0m in \u001b[0;36minit_examples\u001b[0;34m(examples, idx_i, idx_t, o_units)\u001b[0m\n\u001b[1;32m    207\u001b[0m             \u001b[0;31m# One-Hot representation of e's target\u001b[0m\u001b[0;34m\u001b[0m\u001b[0;34m\u001b[0m\u001b[0;34m\u001b[0m\u001b[0m\n\u001b[1;32m    208\u001b[0m             \u001b[0mt\u001b[0m \u001b[0;34m=\u001b[0m \u001b[0;34m[\u001b[0m\u001b[0;36m0\u001b[0m \u001b[0;32mfor\u001b[0m \u001b[0mi\u001b[0m \u001b[0;32min\u001b[0m \u001b[0mrange\u001b[0m\u001b[0;34m(\u001b[0m\u001b[0mo_units\u001b[0m\u001b[0;34m)\u001b[0m\u001b[0;34m]\u001b[0m\u001b[0;34m\u001b[0m\u001b[0;34m\u001b[0m\u001b[0m\n\u001b[0;32m--> 209\u001b[0;31m             \u001b[0mt\u001b[0m\u001b[0;34m[\u001b[0m\u001b[0me\u001b[0m\u001b[0;34m[\u001b[0m\u001b[0midx_t\u001b[0m\u001b[0;34m]\u001b[0m\u001b[0;34m]\u001b[0m \u001b[0;34m=\u001b[0m \u001b[0;36m1\u001b[0m\u001b[0;34m\u001b[0m\u001b[0;34m\u001b[0m\u001b[0m\n\u001b[0m\u001b[1;32m    210\u001b[0m             \u001b[0mtargets\u001b[0m\u001b[0;34m[\u001b[0m\u001b[0mi\u001b[0m\u001b[0;34m]\u001b[0m \u001b[0;34m=\u001b[0m \u001b[0mt\u001b[0m\u001b[0;34m\u001b[0m\u001b[0;34m\u001b[0m\u001b[0m\n\u001b[1;32m    211\u001b[0m         \u001b[0;32melse\u001b[0m\u001b[0;34m:\u001b[0m\u001b[0;34m\u001b[0m\u001b[0;34m\u001b[0m\u001b[0m\n",
      "\u001b[0;31mTypeError\u001b[0m: list indices must be integers or slices, not str"
     ]
    }
   ],
   "source": [
    "centers = [[0, 0], [0, 0]]\n",
    "sigma = 14\n",
    "size = [500, 50]\n",
    "\n",
    "np.random.seed(12)\n",
    "\n",
    "x0 = centers[0][0] + sigma * np.random.randn(size[0])\n",
    "y0 = centers[0][1] + sigma * np.random.randn(size[0])\n",
    "\n",
    "ring = x0**2 + y0**2 > sigma**2\n",
    "x0 = x0[ring]\n",
    "y0 = y0[ring]\n",
    "\n",
    "x1 = centers[1][0] + 3 * np.random.randn(size[1])\n",
    "y1 = centers[1][1] + 3 * np.random.randn(size[1])\n",
    "\n",
    "examples=[]\n",
    "for i in range(len(x0)):\n",
    "    example0 = [x0[i], y0[i], \"r\"]\n",
    "    examples.append(example0)\n",
    "    \n",
    "for i in range(size[1]):\n",
    "    example1 = [x1[i], y1[i], \"b\"]\n",
    "    examples.append(example1)\n",
    "\n",
    "Mock_data = DataSet(examples, target=2)\n",
    "\n",
    "NN_learner = NeuralNetLearner(Mock_data, hidden_layer_sizes=[8], learning_rate=0.02, activation=tanh, epochs=200)\n",
    "\n",
    "# plot the predictions\n",
    "x = np.linspace(-50, 50, 40)\n",
    "y = np.linspace(-50, 50, 40)\n",
    "x, y = np.meshgrid(x, y)\n",
    "\n",
    "x = x.ravel()\n",
    "y = y.ravel()\n",
    "\n",
    "X_testing = np.c_[x, y]\n",
    "\n",
    "color = [\"b\", \"r\"]\n",
    "\n",
    "plt.figure(figsize=(10,10))\n",
    "for X in X_testing:\n",
    "    prediction = NN_learner(X)\n",
    "    plt.scatter(X[0], X[1], c=color[prediction], s = 20, alpha=0.2)\n",
    "    \n",
    "plt.plot(x0, y0, \"r.\", markersize=10)\n",
    "plt.plot(x1, y1, \"b.\", markersize=10)\n",
    "\n",
    "plt.show()"
   ]
  },
  {
   "cell_type": "code",
   "execution_count": 41,
   "metadata": {},
   "outputs": [
    {
     "name": "stdout",
     "output_type": "stream",
     "text": [
      "2269 100\n"
     ]
    },
    {
     "data": {
      "image/png": "[encoded data removed]",
      "text/plain": [
       "<Figure size 720x720 with 1 Axes>"
      ]
     },
     "metadata": {
      "needs_background": "light"
     },
     "output_type": "display_data"
    }
   ],
   "source": [
    "# plot the predictions\n",
    "x = np.linspace(-50, 50, 40)\n",
    "y = np.linspace(-50, 50, 40)\n",
    "x, y = np.meshgrid(x, y)\n",
    "\n",
    "x = x.ravel()\n",
    "y = y.ravel()\n",
    "\n",
    "X_testing = np.c_[x, y]\n",
    "\n",
    "color = [\"b\", \"r\"]\n",
    "\n",
    "plt.figure(figsize=(10,10))\n",
    "for X in X_testing:\n",
    "    prediction = NN_learner(X)\n",
    "    plt.scatter(X[0], X[1], c=color[prediction], s = 20, alpha=0.2)\n",
    "    \n",
    "plt.plot(x0, y0, \"r.\", markersize=10)\n",
    "plt.plot(x1, y1, \"b.\", markersize=10)\n",
    "\n",
    "plt.show()"
   ]
  },
  {
   "cell_type": "code",
   "execution_count": 60,
   "metadata": {},
   "outputs": [
    {
     "name": "stderr",
     "output_type": "stream",
     "text": [
      "/home/abtin/Documents/my_virt_envs/phys_py3/lib/python3.7/site-packages/sklearn/preprocessing/_encoders.py:371: FutureWarning: The handling of integer data will change in version 0.22. Currently, the categories are determined based on the range [0, max(values)], while in the future they will be determined based on the unique values.\n",
      "If you want the future behaviour and silence this warning, you can specify \"categories='auto'\".\n",
      "In case you used a LabelEncoder before this OneHotEncoder to convert the categories to integers, then you can now use the OneHotEncoder directly.\n",
      "  warnings.warn(msg, FutureWarning)\n"
     ]
    }
   ],
   "source": [
    "import numpy as np\n",
    "import pandas as pd\n",
    "import matplotlib.pyplot as plt\n",
    "\n",
    "from sklearn.datasets import load_iris\n",
    "from sklearn.model_selection import train_test_split\n",
    "from sklearn.preprocessing import OneHotEncoder, StandardScaler\n",
    "\n",
    "iris = load_iris()\n",
    "X = iris['data']\n",
    "y = iris['target']\n",
    "names = iris['target_names']\n",
    "feature_names = iris['feature_names']\n",
    "\n",
    "# One hot encoding\n",
    "enc = OneHotEncoder()\n",
    "Y = enc.fit_transform(y[:, np.newaxis]).toarray()\n",
    "\n",
    "# Scale data to have mean 0 and variance 1 \n",
    "# which is importance for convergence of the neural network\n",
    "scaler = StandardScaler()\n",
    "X_scaled = scaler.fit_transform(X)\n",
    "\n",
    "# Split the data set into training and testing\n",
    "X_train, X_test, Y_train, Y_test = train_test_split(\n",
    "    X_scaled, Y, test_size=0.5, random_state=2)\n",
    "\n",
    "n_features = X.shape[1]\n",
    "n_classes = Y.shape[1]"
   ]
  },
  {
   "cell_type": "code",
   "execution_count": 61,
   "metadata": {},
   "outputs": [
    {
     "data": {
      "image/png": "[encoded data removed]",
      "text/plain": [
       "<Figure size 1152x432 with 2 Axes>"
      ]
     },
     "metadata": {
      "needs_background": "light"
     },
     "output_type": "display_data"
    }
   ],
   "source": [
    "# Visualize the data sets\n",
    "plt.figure(figsize=(16, 6))\n",
    "plt.subplot(1, 2, 1)\n",
    "for target, target_name in enumerate(names):\n",
    "    X_plot = X[y == target]\n",
    "    plt.plot(X_plot[:, 0], X_plot[:, 1], linestyle='none', marker='o', label=target_name)\n",
    "plt.xlabel(feature_names[0])\n",
    "plt.ylabel(feature_names[1])\n",
    "plt.axis('equal')\n",
    "plt.legend();\n",
    "\n",
    "plt.subplot(1, 2, 2)\n",
    "for target, target_name in enumerate(names):\n",
    "    X_plot = X[y == target]\n",
    "    plt.plot(X_plot[:, 2], X_plot[:, 3], linestyle='none', marker='o', label=target_name)\n",
    "plt.xlabel(feature_names[2])\n",
    "plt.ylabel(feature_names[3])\n",
    "plt.axis('equal')\n",
    "plt.legend();"
   ]
  },
  {
   "cell_type": "code",
   "execution_count": 28,
   "metadata": {},
   "outputs": [
    {
     "name": "stderr",
     "output_type": "stream",
     "text": [
      "Using TensorFlow backend.\n"
     ]
    },
    {
     "name": "stdout",
     "output_type": "stream",
     "text": [
      "WARNING:tensorflow:From /home/abtin/Documents/my_virt_envs/phys_py3/lib/python3.7/site-packages/tensorflow/python/framework/op_def_library.py:263: colocate_with (from tensorflow.python.framework.ops) is deprecated and will be removed in a future version.\n",
      "Instructions for updating:\n",
      "Colocations handled automatically by placer.\n"
     ]
    }
   ],
   "source": [
    "from keras import metrics\n",
    "from keras.models import Sequential\n",
    "from keras.layers import Dense, Activation\n",
    "\n",
    "model = Sequential([\n",
    "    Dense(32, input_shape=(784,)),\n",
    "    Activation('relu'),\n",
    "    Dense(10),\n",
    "    Activation('softmax'),\n",
    "])\n",
    "\n",
    "\n",
    "model = Sequential()\n",
    "model.add(Dense(32, input_dim=784))\n",
    "model.add(Activation('relu'))"
   ]
  },
  {
   "cell_type": "code",
   "execution_count": 15,
   "metadata": {},
   "outputs": [],
   "source": [
    "import numpy as np\n",
    "import matplotlib.pyplot as plt"
   ]
  },
  {
   "cell_type": "code",
   "execution_count": 64,
   "metadata": {},
   "outputs": [],
   "source": [
    "path = \"/home/abtin/Documents/courses/machine_learning/spring_2019/Foundation_applied_machine_learning/final/\""
   ]
  },
  {
   "cell_type": "code",
   "execution_count": null,
   "metadata": {},
   "outputs": [],
   "source": [
    "plt.figure(figsize=(8, 8))\n",
    "centers = [[0, 0], [0, 0]]\n",
    "sigma = 14\n",
    "size = [2000, 50]\n",
    "\n",
    "np.random.seed(50)\n",
    "\n",
    "x0 = centers[0][0] + sigma * np.random.randn(size[0])\n",
    "y0 = centers[0][1] + sigma * np.random.randn(size[0])\n",
    "\n",
    "ring = (x0**2 + y0**2 > 2 * sigma**2) * (x0**2 + y0**2 < 5 * sigma**2)\n",
    "x0 = x0[ring]\n",
    "y0 = y0[ring]\n",
    "\n",
    "x1 = centers[1][0] + 3 * np.random.randn(size[1])\n",
    "y1 = centers[1][1] + 3 * np.random.randn(size[1])\n",
    "\n",
    "\n",
    "\n",
    "x3 = centers[0][0] + 10 * sigma * np.random.randn(size[0])\n",
    "y3 = centers[0][1] + 10 * sigma * np.random.randn(size[0])\n",
    "\n",
    "ring = (x3**2 + y3**2 > 5 * sigma**2) * (x3**2 + y3**2 < 20 * sigma**2)\n",
    "x3 = x3[ring]\n",
    "y3 = y3[ring]\n",
    "\n",
    "\n",
    "examples=[]\n",
    "for i in range(len(x0)):\n",
    "    example0 = [x0[i], y0[i], \"r\"]\n",
    "    examples.append(example0)\n",
    "    \n",
    "for i in range(size[1]):\n",
    "    example1 = [x1[i], y1[i], \"b\"]\n",
    "    examples.append(example1)\n",
    "    \n",
    "    \n",
    "for i in range(size[1]):\n",
    "    example1 = [x3[i], y3[i], \"g\"]\n",
    "    examples.append(example1)\n",
    "    \n",
    "number_of_examples = len(examples)\n",
    "id_train = np.random.choice(range(number_of_examples), number_of_examples,replace=False)\n",
    "Train = [examples[idx] for idx in id_train]\n",
    "Test = [example for example in examples if example not in Train]\n",
    "    \n",
    "plt.plot(x0, y0, \"r.\", markersize=10)\n",
    "plt.plot(x1, y1, \"b.\", markersize=10)\n",
    "plt.plot(x3, y3, \"g.\", markersize=10)\n",
    "\n",
    "\n",
    "# plt.savefig(path+\"data.png\", dpi=100)\n",
    "\n",
    "plt.show()"
   ]
  },
  {
   "cell_type": "code",
   "execution_count": null,
   "metadata": {},
   "outputs": [],
   "source": [
    "# with open(path + \"train_set.txt\", \"w\") as f:\n",
    "#     for e in Train:\n",
    "#         f.write(str(e[0])+\",\"+ str(e[1]) + \",\" + str(e[2])+ \"\\n\")\n",
    "    "
   ]
  },
  {
   "cell_type": "code",
   "execution_count": null,
   "metadata": {},
   "outputs": [],
   "source": [
    "import random"
   ]
  },
  {
   "cell_type": "code",
   "execution_count": null,
   "metadata": {},
   "outputs": [],
   "source": [
    "train = np.array(Train).T\n",
    "random.shuffle(train)"
   ]
  },
  {
   "cell_type": "code",
   "execution_count": null,
   "metadata": {},
   "outputs": [],
   "source": [
    "random.shuffle(Train)"
   ]
  },
  {
   "cell_type": "code",
   "execution_count": null,
   "metadata": {},
   "outputs": [],
   "source": [
    "def one_hot_encoder(outputs):\n",
    "    # find the distinct outputs\n",
    "    distinct = list(set(outputs))\n",
    "    # build a template \n",
    "    t = [0 for _ in distinct]\n",
    "    encoded_list = []\n",
    "    classes_list = [] \n",
    "    # go through every outputs' elements\n",
    "    for output in outputs:\n",
    "        t = [0 for _ in distinct]\n",
    "        for i, d in enumerate(distinct):\n",
    "            if output == d:\n",
    "                t0 = t\n",
    "                t0[i] = 1\n",
    "                encoded_list.append(t0)\n",
    "                classes_list.append(output)\n",
    "                continue\n",
    "    return encoded_list, classes_list, distinct"
   ]
  },
  {
   "cell_type": "code",
   "execution_count": null,
   "metadata": {},
   "outputs": [],
   "source": [
    "X = np.array([np.array(example[:2]) for example in examples])\n",
    "y = [example[-1] for example in examples]\n",
    "\n",
    "y, old_y, o = one_hot_encoder(y)\n",
    "\n",
    "y = np.array(y)\n"
   ]
  },
  {
   "cell_type": "code",
   "execution_count": null,
   "metadata": {},
   "outputs": [],
   "source": [
    "def find_color(grid_y):\n",
    "    colors=[]\n",
    "    for y in grid_y:\n",
    "        if y[0]>=y[1]:\n",
    "            colors.append(\"b\")\n",
    "        else:\n",
    "            colors.append(\"r\")\n",
    "            \n",
    "    return colors\n",
    "\n",
    "def find_3color(grid_y, c):\n",
    "    colors=[]    \n",
    "    for y in grid_y:\n",
    "        idx = y==max(y)\n",
    "        for j, id_ in enumerate(idx):\n",
    "            if id_:\n",
    "                colors.append(c[j])\n",
    "    return colors"
   ]
  },
  {
   "cell_type": "code",
   "execution_count": 30,
   "metadata": {},
   "outputs": [
    {
     "data": {
      "text/plain": [
       "1"
      ]
     },
     "execution_count": 30,
     "metadata": {},
     "output_type": "execute_result"
    }
   ],
   "source": [
    "c =[1,2,4]\n",
    "b=[True, True, False]\n",
    "\n",
    "c[b==False]"
   ]
  },
  {
   "cell_type": "code",
   "execution_count": 31,
   "metadata": {},
   "outputs": [],
   "source": [
    "model = Sequential([Dense(10, input_dim=3), Activation(\"relu\"),\n",
    "#                     Dense(5), Activation(\"relu\"),\n",
    "                    Dense(2), Activation(\"softmax\")])\n",
    "\n",
    "model.compile(loss= \"mean_squared_error\",\n",
    "              optimizer=\"sgd\",\n",
    "              metrics=[metrics.mae, metrics.categorical_accuracy],)"
   ]
  },
  {
   "cell_type": "code",
   "execution_count": null,
   "metadata": {},
   "outputs": [],
   "source": [
    "from keras import regularizers\n",
    "\n",
    "a = [\"relu\", \"elu\", \"tanh\", \"sigmoid\"]\n",
    "i = 2\n",
    "\n",
    "model = Sequential([Dense(12, input_dim=2), Activation(a[i]),\n",
    "                    Dense(25), Activation(a[i]),\n",
    "                    Dense(25), Activation(a[i]),\n",
    "                    Dense(25), Activation(a[i]),\n",
    "                    Dense(3), Activation(\"softmax\")])\n",
    "\n",
    "model.compile(loss= \"mean_squared_error\",\n",
    "              optimizer=\"adam\",\n",
    "              metrics=[metrics.mae, metrics.categorical_accuracy],)\n",
    "\n",
    "\n",
    "\n",
    "X = np.array([np.array(example[:2]) for example in examples])\n",
    "y = [example[-1] for example in examples]\n",
    "\n",
    "y, old_y, colors = one_hot_encoder(y)\n",
    "\n",
    "y = np.array(y)\n",
    "\n",
    "\n",
    "\n",
    "history = model.fit(X, y, epochs=500, verbose=0)"
   ]
  },
  {
   "cell_type": "code",
   "execution_count": null,
   "metadata": {},
   "outputs": [],
   "source": [
    "# plot the predictions\n",
    "x = np.linspace(-70, 70, 100)\n",
    "y = np.linspace(-70, 70, 100)\n",
    "x, y = np.meshgrid(x, y)\n",
    "\n",
    "x = x.ravel()\n",
    "y = y.ravel()\n",
    "\n",
    "X_testing = np.c_[x, y]\n",
    "\n",
    "grid_y = model.predict(X_testing)\n",
    "\n",
    "\n",
    "plt.figure(figsize=(12, 12))\n",
    "plt.scatter(X.T[0], X.T[1], c=old_y)\n",
    "\n",
    "plt.scatter(X_testing.T[0], X_testing.T[1], c=find_3color(grid_y, colors), alpha = 0.1, s=20)\n",
    "\n",
    "plt.show()\n"
   ]
  },
  {
   "cell_type": "code",
   "execution_count": 89,
   "metadata": {},
   "outputs": [
    {
     "data": {
      "image/png": "[encoded data removed]",
      "text/plain": [
       "<Figure size 1296x360 with 3 Axes>"
      ]
     },
     "metadata": {
      "needs_background": "light"
     },
     "output_type": "display_data"
    }
   ],
   "source": [
    "plt.figure(figsize=(18, 5))\n",
    "\n",
    "plt.subplot(131)\n",
    "plt.plot(history.epoch, history.history[\"loss\"], label=\"loss\")\n",
    "plt.legend(fontsize=15)\n",
    "\n",
    "\n",
    "\n",
    "plt.subplot(132)\n",
    "plt.plot(history.epoch, history.history[\"mean_absolute_error\"], label=\"mean absolute error\")\n",
    "plt.legend(fontsize=15)\n",
    "\n",
    "\n",
    "plt.subplot(133)\n",
    "plt.plot(history.epoch, history.history[\"categorical_accuracy\"], label=\"categorical accuracy\")\n",
    "plt.legend(fontsize=15)\n",
    "\n",
    "\n",
    "plt.show()"
   ]
  },
  {
   "cell_type": "code",
   "execution_count": 171,
   "metadata": {},
   "outputs": [],
   "source": []
  },
  {
   "cell_type": "code",
   "execution_count": 172,
   "metadata": {},
   "outputs": [],
   "source": []
  },
  {
   "cell_type": "code",
   "execution_count": 193,
   "metadata": {},
   "outputs": [],
   "source": []
  },
  {
   "cell_type": "code",
   "execution_count": null,
   "metadata": {},
   "outputs": [],
   "source": []
  },
  {
   "cell_type": "code",
   "execution_count": null,
   "metadata": {},
   "outputs": [],
   "source": []
  },
  {
   "cell_type": "code",
   "execution_count": 124,
   "metadata": {},
   "outputs": [
    {
     "name": "stdout",
     "output_type": "stream",
     "text": [
      "_________________________________________________________________\n",
      "Layer (type)                 Output Shape              Param #   \n",
      "=================================================================\n",
      "dense_72 (Dense)             (None, 8)                 40        \n",
      "_________________________________________________________________\n",
      "dense_73 (Dense)             (None, 3)                 27        \n",
      "=================================================================\n",
      "Total params: 67\n",
      "Trainable params: 67\n",
      "Non-trainable params: 0\n",
      "_________________________________________________________________\n",
      "_________________________________________________________________\n",
      "Layer (type)                 Output Shape              Param #   \n",
      "=================================================================\n",
      "dense_74 (Dense)             (None, 8)                 40        \n",
      "_________________________________________________________________\n",
      "dense_75 (Dense)             (None, 8)                 72        \n",
      "_________________________________________________________________\n",
      "dense_76 (Dense)             (None, 3)                 27        \n",
      "=================================================================\n",
      "Total params: 139\n",
      "Trainable params: 139\n",
      "Non-trainable params: 0\n",
      "_________________________________________________________________\n",
      "_________________________________________________________________\n",
      "Layer (type)                 Output Shape              Param #   \n",
      "=================================================================\n",
      "dense_77 (Dense)             (None, 8)                 40        \n",
      "_________________________________________________________________\n",
      "dense_78 (Dense)             (None, 8)                 72        \n",
      "_________________________________________________________________\n",
      "dense_79 (Dense)             (None, 8)                 72        \n",
      "_________________________________________________________________\n",
      "dense_80 (Dense)             (None, 3)                 27        \n",
      "=================================================================\n",
      "Total params: 211\n",
      "Trainable params: 211\n",
      "Non-trainable params: 0\n",
      "_________________________________________________________________\n"
     ]
    }
   ],
   "source": [
    "from keras.models import Sequential\n",
    "from keras.layers import Dense\n",
    "\n",
    "def create_model_network(input_dim, output_dim, neurons, layers=1, name='model'):\n",
    "    def create_model():\n",
    "        # Create model\n",
    "        model = Sequential(name=name)\n",
    "        for i in range(layers):\n",
    "            model.add(Dense(neurons, input_dim=input_dim, activation='relu'))\n",
    "        model.add(Dense(output_dim, activation='softmax'))\n",
    "\n",
    "        # Compile model\n",
    "        model.compile(loss='categorical_crossentropy', \n",
    "                      optimizer='adam', \n",
    "                      metrics=['accuracy'])\n",
    "        return model\n",
    "    return create_model\n",
    "\n",
    "models = [create_custom_model(n_features, n_classes, 8, i, 'model{}'.format(i)) \n",
    "          for i in range(1, 4)]\n",
    "\n",
    "for create_model in models:\n",
    "    create_model().summary()"
   ]
  },
  {
   "cell_type": "code",
   "execution_count": 127,
   "metadata": {},
   "outputs": [
    {
     "data": {
      "text/plain": [
       "(75, 4)"
      ]
     },
     "execution_count": 127,
     "metadata": {},
     "output_type": "execute_result"
    }
   ],
   "source": [
    "X_train.shape"
   ]
  },
  {
   "cell_type": "code",
   "execution_count": 149,
   "metadata": {},
   "outputs": [
    {
     "data": {
      "text/plain": [
       "array([[0., 1., 0.],\n",
       "       [0., 1., 0.],\n",
       "       [0., 0., 1.],\n",
       "       [1., 0., 0.],\n",
       "       [0., 1., 0.],\n",
       "       [1., 0., 0.],\n",
       "       [0., 1., 0.],\n",
       "       [0., 0., 1.],\n",
       "       [1., 0., 0.],\n",
       "       [0., 1., 0.],\n",
       "       [1., 0., 0.],\n",
       "       [1., 0., 0.],\n",
       "       [1., 0., 0.],\n",
       "       [0., 0., 1.],\n",
       "       [0., 0., 1.],\n",
       "       [1., 0., 0.],\n",
       "       [1., 0., 0.],\n",
       "       [0., 0., 1.],\n",
       "       [0., 0., 1.],\n",
       "       [0., 1., 0.],\n",
       "       [0., 0., 1.],\n",
       "       [0., 1., 0.],\n",
       "       [0., 1., 0.],\n",
       "       [0., 0., 1.],\n",
       "       [1., 0., 0.],\n",
       "       [0., 0., 1.],\n",
       "       [0., 0., 1.],\n",
       "       [0., 0., 1.],\n",
       "       [1., 0., 0.],\n",
       "       [0., 0., 1.],\n",
       "       [1., 0., 0.],\n",
       "       [1., 0., 0.],\n",
       "       [0., 1., 0.],\n",
       "       [0., 0., 1.],\n",
       "       [0., 1., 0.],\n",
       "       [0., 0., 1.],\n",
       "       [0., 1., 0.],\n",
       "       [0., 1., 0.],\n",
       "       [0., 0., 1.],\n",
       "       [0., 1., 0.],\n",
       "       [0., 1., 0.],\n",
       "       [0., 1., 0.],\n",
       "       [0., 0., 1.],\n",
       "       [0., 1., 0.],\n",
       "       [0., 0., 1.],\n",
       "       [0., 1., 0.],\n",
       "       [1., 0., 0.],\n",
       "       [0., 1., 0.],\n",
       "       [0., 1., 0.],\n",
       "       [0., 1., 0.],\n",
       "       [0., 1., 0.],\n",
       "       [0., 0., 1.],\n",
       "       [0., 1., 0.],\n",
       "       [1., 0., 0.],\n",
       "       [1., 0., 0.],\n",
       "       [0., 0., 1.],\n",
       "       [0., 1., 0.],\n",
       "       [0., 0., 1.],\n",
       "       [1., 0., 0.],\n",
       "       [0., 0., 1.],\n",
       "       [1., 0., 0.],\n",
       "       [0., 0., 1.],\n",
       "       [0., 0., 1.],\n",
       "       [1., 0., 0.],\n",
       "       [0., 1., 0.],\n",
       "       [1., 0., 0.],\n",
       "       [0., 0., 1.],\n",
       "       [0., 1., 0.],\n",
       "       [1., 0., 0.],\n",
       "       [0., 0., 1.],\n",
       "       [0., 1., 0.],\n",
       "       [1., 0., 0.],\n",
       "       [1., 0., 0.],\n",
       "       [0., 1., 0.],\n",
       "       [1., 0., 0.]])"
      ]
     },
     "execution_count": 149,
     "metadata": {},
     "output_type": "execute_result"
    }
   ],
   "source": [
    "Y_train"
   ]
  },
  {
   "cell_type": "code",
   "execution_count": 125,
   "metadata": {},
   "outputs": [
    {
     "name": "stdout",
     "output_type": "stream",
     "text": [
      "Model name: model1\n",
      "Test loss: 0.3862049853801727\n",
      "Test accuracy: 0.8266666706403096\n",
      "Model name: model2\n",
      "Test loss: 0.20982298652331036\n",
      "Test accuracy: 0.92\n",
      "Model name: model3\n",
      "Test loss: 0.1474529379606247\n",
      "Test accuracy: 0.9333333333333333\n"
     ]
    }
   ],
   "source": [
    "from keras.callbacks import TensorBoard\n",
    "\n",
    "history_dict = {}\n",
    "\n",
    "# TensorBoard Callback\n",
    "cb = TensorBoard()\n",
    "\n",
    "for create_model in models:\n",
    "    model = create_model()\n",
    "    print('Model name:', model.name)\n",
    "    history_callback = model.fit(X_train, Y_train,\n",
    "                                 batch_size=5,\n",
    "                                 epochs=50,\n",
    "                                 verbose=0,\n",
    "                                 validation_data=(X_test, Y_test),\n",
    "                                 callbacks=[cb])\n",
    "    score = model.evaluate(X_test, Y_test, verbose=0)\n",
    "    print('Test loss:', score[0])\n",
    "    print('Test accuracy:', score[1])\n",
    "    \n",
    "    history_dict[model.name] = [history_callback, model]"
   ]
  },
  {
   "cell_type": "code",
   "execution_count": 17,
   "metadata": {},
   "outputs": [
    {
     "data": {
      "image/png": "[encoded data removed]",
      "text/plain": [
       "<Figure size 576x432 with 2 Axes>"
      ]
     },
     "metadata": {
      "needs_background": "light"
     },
     "output_type": "display_data"
    }
   ],
   "source": [
    "fig, (ax1, ax2) = plt.subplots(2, figsize=(8, 6))\n",
    "\n",
    "for model_name in history_dict:\n",
    "    val_acc = history_dict[model_name][0].history['val_acc']\n",
    "    val_loss = history_dict[model_name][0].history['val_loss']\n",
    "    ax1.plot(val_acc, label=model_name)\n",
    "    ax2.plot(val_loss, label=model_name)\n",
    "    \n",
    "ax1.set_ylabel(r'validation accuracy')\n",
    "ax2.set_ylabel(r'validation loss')\n",
    "ax2.set_xlabel(r'epochs')\n",
    "ax1.legend()\n",
    "ax2.legend()\n",
    "plt.show()"
   ]
  },
  {
   "cell_type": "code",
   "execution_count": 19,
   "metadata": {},
   "outputs": [
    {
     "data": {
      "image/png": "[encoded data removed]",
      "text/plain": [
       "<Figure size 720x720 with 1 Axes>"
      ]
     },
     "metadata": {
      "needs_background": "light"
     },
     "output_type": "display_data"
    }
   ],
   "source": [
    "from sklearn.metrics import roc_curve, auc\n",
    "\n",
    "plt.figure(figsize=(10, 10))\n",
    "plt.plot([0, 1], [0, 1], 'k--')\n",
    "\n",
    "for model_name in history_dict:\n",
    "    model = history_dict[model_name][1]\n",
    "    \n",
    "    Y_pred = model.predict(X_test)\n",
    "    fpr, tpr, threshold = roc_curve(Y_test.ravel(), Y_pred.ravel())\n",
    "    \n",
    "    plt.plot(fpr, tpr, label='{}, AUC = {:.3f}'.format(model_name, auc(fpr, tpr)))\n",
    "plt.xlabel('False positive rate')\n",
    "plt.ylabel('True positive rate')\n",
    "plt.title('ROC curve')\n",
    "plt.legend();"
   ]
  },
  {
   "cell_type": "code",
   "execution_count": 20,
   "metadata": {},
   "outputs": [
    {
     "name": "stdout",
     "output_type": "stream",
     "text": [
      "Accuracy : 0.93 (+/- 0.07)\n"
     ]
    }
   ],
   "source": [
    "from keras.wrappers.scikit_learn import KerasClassifier\n",
    "from sklearn.model_selection import cross_val_score\n",
    "\n",
    "create_model = create_custom_model(n_features, n_classes, 8, 3)\n",
    "\n",
    "estimator = KerasClassifier(build_fn=create_model, epochs=100, batch_size=5, verbose=0)\n",
    "scores = cross_val_score(estimator, X_scaled, Y, cv=10)\n",
    "print(\"Accuracy : {:0.2f} (+/- {:0.2f})\".format(scores.mean(), scores.std()))"
   ]
  },
  {
   "cell_type": "code",
   "execution_count": null,
   "metadata": {},
   "outputs": [],
   "source": []
  },
  {
   "cell_type": "code",
   "execution_count": null,
   "metadata": {},
   "outputs": [],
   "source": []
  },
  {
   "cell_type": "code",
   "execution_count": null,
   "metadata": {},
   "outputs": [],
   "source": []
  },
  {
   "cell_type": "code",
   "execution_count": null,
   "metadata": {},
   "outputs": [],
   "source": []
  },
  {
   "cell_type": "code",
   "execution_count": null,
   "metadata": {},
   "outputs": [],
   "source": []
  },
  {
   "cell_type": "code",
   "execution_count": 525,
   "metadata": {},
   "outputs": [
    {
     "data": {
      "image/png": "[encoded data removed]",
      "text/plain": [
       "<Figure size 720x720 with 1 Axes>"
      ]
     },
     "metadata": {
      "needs_background": "light"
     },
     "output_type": "display_data"
    }
   ],
   "source": [
    "color = [\"r\", \"g\", \"b\"]\n",
    "    \n",
    "plt.figure(figsize=(10,10))\n",
    "for X in X_testing:\n",
    "    prediction = NN_learner(X)\n",
    "    plt.scatter(X[0], X[1], c=color[prediction], s = 10)\n",
    "    \n",
    "\n",
    "for example in Iris_2D.examples:\n",
    "    truth = example[-1]\n",
    "    plt.scatter(example[0], example[1], c=color[truth])"
   ]
  },
  {
   "cell_type": "code",
   "execution_count": 43,
   "metadata": {},
   "outputs": [],
   "source": [
    "@np.vectorize\n",
    "def sigmoid(x):\n",
    "    from math import exp\n",
    "    return 1/(1+exp(-x))"
   ]
  },
  {
   "cell_type": "code",
   "execution_count": 143,
   "metadata": {},
   "outputs": [],
   "source": []
  },
  {
   "cell_type": "code",
   "execution_count": null,
   "metadata": {},
   "outputs": [],
   "source": []
  },
  {
   "cell_type": "code",
   "execution_count": 132,
   "metadata": {},
   "outputs": [],
   "source": [
    "class Neuron:\n",
    "    def __init__(self, activation_function=None, layer=0, num=0, activation=0):\n",
    "        if activation_function==None:\n",
    "            self.activation_function = sigmoid\n",
    "        else:\n",
    "            self.activation_function = activation_function\n",
    "    \n",
    "        self.layer = layer\n",
    "        self.num = num\n",
    "        self.activation = activation\n",
    "    \n",
    "    \n",
    "    def activate(self, input_activations):\n",
    "#         input_activations = [weights, activations]\n",
    "        self.activation = self.activation_function(input_activations)\n",
    "        \n",
    "        \n",
    "    def get_layer(self):\n",
    "        return self.layer\n",
    "    \n",
    "    def get_num(self):\n",
    "        return self.num\n",
    "    \n",
    "    def get_pos(self):\n",
    "        return [self.layer, self.num]\n",
    "    \n",
    "    def get_activation(self):\n",
    "        return self.activation\n",
    "    \n",
    "    \n",
    "    \n",
    "class Link:\n",
    "    def __init__(self, N1, N2, weight = 0):\n",
    "        pos1 = N1.get_pos()\n",
    "        pos2 = N2.get_pos()\n",
    "        \n",
    "        self.neurons_pos = (pos1, pos2)\n",
    "        self.n1, self.n2 = N1, N2 \n",
    "        self.neurons = (self.n1, self.n2)\n",
    "        \n",
    "        if abs(pos1[0] - pos2[0])==1:\n",
    "            self.weight = weight\n",
    "        else:\n",
    "            self.weight = 0\n",
    "    \n",
    "    \n",
    "    def get_weight(self):\n",
    "        return self.weight\n",
    "    \n",
    "    def get_neurons(self):\n",
    "        return self.neurons\n",
    "    \n",
    "    def get_neurons_pos(self):\n",
    "        return self.neurons_pos\n",
    "\n",
    "class Layers:\n",
    "    def __init__(self, neuron_list):\n",
    "        list_of_positions = [neuron.get_pos() for neuron in neuron_list]\n",
    "        \n",
    "        # find number of layers \n",
    "        list_layers = list(set([pos[0] for pos in list_of_positions]))\n",
    "        \n",
    "        layers=[]\n",
    "        for i in list_layers:\n",
    "            layers.append([neuron for neuron in neuron_list if neuron.get_layer()==i])\n",
    "        self.layers = layers"
   ]
  },
  {
   "cell_type": "code",
   "execution_count": null,
   "metadata": {},
   "outputs": [],
   "source": [
    "class Neural_Network:\n",
    "    def __init__(self, neuron_list):\n",
    "        self.layers = Layers(neuron_list)\n",
    "        \n",
    "    def find_links(self):\n",
    "        "
   ]
  },
  {
   "cell_type": "code",
   "execution_count": 133,
   "metadata": {},
   "outputs": [],
   "source": [
    "list_of_n = []\n",
    "for i in range(10):\n",
    "    for j in range(3):\n",
    "        list_of_n.append(Neuron(layer=j, num=i))"
   ]
  },
  {
   "cell_type": "code",
   "execution_count": 134,
   "metadata": {},
   "outputs": [],
   "source": [
    "d = Layers(list_of_n)"
   ]
  },
  {
   "cell_type": "code",
   "execution_count": 135,
   "metadata": {},
   "outputs": [],
   "source": [
    "N = d.layers[1][0]\n",
    "links = []\n",
    "weights = np.random.rand(len(d.layers[0]))\n",
    "\n",
    "for i, weight in zip(d.layers[0], weights):\n",
    "    links.append(Link(i, N, weight))"
   ]
  },
  {
   "cell_type": "code",
   "execution_count": 142,
   "metadata": {},
   "outputs": [
    {
     "data": {
      "text/plain": [
       "0.27864646423661144"
      ]
     },
     "execution_count": 142,
     "metadata": {},
     "output_type": "execute_result"
    }
   ],
   "source": [
    "links[4].get_weight()"
   ]
  },
  {
   "cell_type": "code",
   "execution_count": 110,
   "metadata": {},
   "outputs": [
    {
     "data": {
      "text/plain": [
       "[<__main__.Link at 0x7f406664f048>,\n",
       " <__main__.Link at 0x7f406664f0b8>,\n",
       " <__main__.Link at 0x7f406664f2e8>,\n",
       " <__main__.Link at 0x7f406664f208>,\n",
       " <__main__.Link at 0x7f406664f278>,\n",
       " <__main__.Link at 0x7f406664f358>,\n",
       " <__main__.Link at 0x7f406664fb00>,\n",
       " <__main__.Link at 0x7f406664f3c8>,\n",
       " <__main__.Link at 0x7f40664f0eb8>,\n",
       " <__main__.Link at 0x7f40664f0e10>]"
      ]
     },
     "execution_count": 110,
     "metadata": {},
     "output_type": "execute_result"
    }
   ],
   "source": [
    "links"
   ]
  },
  {
   "cell_type": "code",
   "execution_count": 87,
   "metadata": {},
   "outputs": [
    {
     "name": "stdout",
     "output_type": "stream",
     "text": [
      "0\n",
      "4.5397868702434395e-05\n"
     ]
    }
   ],
   "source": [
    "print(n0.get_activation())\n",
    "\n",
    "n0.activate(-10)\n",
    "\n",
    "print(n0.get_activation())"
   ]
  },
  {
   "cell_type": "code",
   "execution_count": null,
   "metadata": {},
   "outputs": [],
   "source": []
  }
 ],
 "metadata": {
  "kernelspec": {
   "display_name": "Python 3",
   "language": "python",
   "name": "python3"
  },
  "language_info": {
   "codemirror_mode": {
    "name": "ipython",
    "version": 3
   },
   "file_extension": ".py",
   "mimetype": "text/x-python",
   "name": "python",
   "nbconvert_exporter": "python",
   "pygments_lexer": "ipython3",
   "version": "3.7.3"
  }
 },
 "nbformat": 4,
 "nbformat_minor": 2
}
