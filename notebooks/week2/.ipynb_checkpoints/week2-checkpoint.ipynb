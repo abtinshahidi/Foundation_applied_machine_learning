{
 "cells": [
  {
   "cell_type": "markdown",
   "metadata": {},
   "source": [
    "# **The Foundation of Applied Machine Learning**\n",
    "## Spring 2019\n",
    "\n",
    "### Instructor: [**Prof. Bahram Mobasher**](http://faculty.ucr.edu/~mobasher/)\n",
    "### Teaching Assistance: [**Abtin Shahidi**](https://abtinshahidi.github.io/) email *abtin.shahidi--at--email.ucr.edu*\n",
    "\n",
    "### Course webpage: [https://abtinshahidi.github.io/teaching/2019-spring-foundation-machine-learning](https://abtinshahidi.github.io/teaching/2019-spring-foundation-machine-learning)\n",
    "\n"
   ]
  },
  {
   "cell_type": "markdown",
   "metadata": {},
   "source": [
    "# **Week 2**\n",
    "\n",
    "## Introduction to statistics:\n",
    "\n",
    "> “I couldn't claim that I was smarter than sixty-five other guys--but the average of sixty-five other guys, certainly!” \n",
    ">\n",
    "> -- <cite>*Richard P. Feynman*, Surely You're Joking, Mr. Feynman!</cite>\n",
    "\n",
    "\n",
    "### **Statistic** is a very broad subject of study, covering from data collection (designing surveys), organizing and preparing data, and making intrepetation and analysis on the data and at the end presenting and visualizing the crux of the analysis in the meaningful way.\n",
    "\n",
    "#### In this course we are going to discuss how can we clean up a given dataset, then analyze and visualize important information in it.\n",
    "\n",
    "<hr></hr>\n",
    "\n",
    "### First let's start with a quick excersise:"
   ]
  },
  {
   "cell_type": "code",
   "execution_count": 118,
   "metadata": {},
   "outputs": [],
   "source": [
    "import numpy as np\n",
    "import matplotlib.pyplot as plt"
   ]
  },
  {
   "cell_type": "markdown",
   "metadata": {},
   "source": [
    "#### First we need a gaussian function. We can use built-in functions in numpy for getting a gaussian function. However, let's define it ourself as an easy practice:\n"
   ]
  },
  {
   "cell_type": "code",
   "execution_count": 246,
   "metadata": {},
   "outputs": [],
   "source": [
    "def Gaussian_prob(x, _mu=0, _sigma=1):\n",
    "    \"\"\"Gaussian disturbution: probability of getting x given mu=_mu, sigma=_sigma\"\"\"\n",
    "    return (1/np.sqrt(2*np.pi*_sigma**2))*np.exp(-(x-_mu)**2/(2*_sigma**2))"
   ]
  },
  {
   "cell_type": "code",
   "execution_count": 247,
   "metadata": {},
   "outputs": [],
   "source": [
    "# initial configuration\n",
    "\n",
    "x_span = np.linspace(0,20, 1000)\n",
    "mu, sigma = 10, 5\n",
    "\n",
    "prob_list = [Gaussian_prob(x, mu, sigma) for x in x_span]"
   ]
  },
  {
   "cell_type": "markdown",
   "metadata": {},
   "source": [
    "### Another equivalent way of doing the above but using the numpy arrays. (Be very carefull when writing a code this way, since the code above works for any object that is iterable; but, the method used below can only be applied for the **numpy array object** and **not a list**. "
   ]
  },
  {
   "cell_type": "code",
   "execution_count": 248,
   "metadata": {},
   "outputs": [],
   "source": [
    "prob_np_array = Gaussian_prob(x_span, mu, sigma)"
   ]
  },
  {
   "cell_type": "code",
   "execution_count": 249,
   "metadata": {},
   "outputs": [
    {
     "data": {
      "image/png": "[encoded data removed]",
      "text/plain": [
       "<Figure size 432x288 with 1 Axes>"
      ]
     },
     "metadata": {
      "needs_background": "light"
     },
     "output_type": "display_data"
    }
   ],
   "source": [
    "plt.plot(x_span, prob_list)\n",
    "\n",
    "plt.title(\"Guassian Disturbution for $\\mu=$ {} , and $\\sigma=$ {}\".format(mu, sigma))\n",
    "plt.xlabel(r\"x\")\n",
    "plt.ylabel(r\"$P(x|\\mu, \\sigma)$\")\n",
    "\n",
    "plt.show()"
   ]
  },
  {
   "cell_type": "markdown",
   "metadata": {},
   "source": [
    "### **Perfect!!**\n",
    "\n",
    "#### Now that we have our guassian function let's start doing some estimation!"
   ]
  },
  {
   "cell_type": "markdown",
   "metadata": {},
   "source": [
    "<hr>\n",
    "\n",
    "## **Particle X** \n",
    "### What is the **True** mass of the newly discovered X particle?\n",
    "\n",
    "<hr>"
   ]
  },
  {
   "cell_type": "markdown",
   "metadata": {},
   "source": [
    "#### Imagine that you are a Primary investigator for one particular experiment done at the [**CERN**](https://home.cern/) (The world's most powerful particle accelerator). There was a new experiment which led to the discovery of particle X. But, there has been a lot of debate about the true mass of the particle. So, you asked **ATLAS** and **CMS** team to measure the mass of the particle completely separate from each other. (These are two separate detector at CERN) They gave you the following results for the mass and the corresponding error. (in  an unknown unit!!!)"
   ]
  },
  {
   "cell_type": "code",
   "execution_count": 177,
   "metadata": {},
   "outputs": [],
   "source": [
    "mass_atlas, mass_err_atlas = 10.12, 3.7\n",
    "mass_cms, mass_err_cms = 7.42, 1.6"
   ]
  },
  {
   "cell_type": "markdown",
   "metadata": {},
   "source": [
    "#### You have too hold a news conference to announce the discovery as well as the measured mass. So, how can you find the value for the true mass of the particle? In other words, how can you find this value, using **all** the information about this two measurement?"
   ]
  },
  {
   "cell_type": "markdown",
   "metadata": {},
   "source": [
    "#### The easiest way that comes to mind is two report the average of these values:"
   ]
  },
  {
   "cell_type": "code",
   "execution_count": 179,
   "metadata": {},
   "outputs": [
    {
     "name": "stdout",
     "output_type": "stream",
     "text": [
      "8.77\n"
     ]
    }
   ],
   "source": [
    "mass_average = (mass_atlas+mass_cms)/2\n",
    "print(mass_average)"
   ]
  },
  {
   "cell_type": "markdown",
   "metadata": {},
   "source": [
    "#### <span style=\"color:red\">_But there is huge problem with this analysis!!!_</span>\n",
    "\n",
    "#### The lead investigator of the CMS team calls you and asks for an explanation for your decision to report the average. Since, he argues that the measurement done by ATLAS team is not as valid as CMS team since the ATLAS team have much higher uncertaintity in their experiment. But in your analysis, you are giving both these measurements the same weight by averaging them. **How can you take into account the difference in uncertaintity in your analysis?**"
   ]
  },
  {
   "cell_type": "markdown",
   "metadata": {},
   "source": [
    "$ X_1 $: mass_atlas, mass_err_atlas  \n",
    "$ X_2 $: mass_atlas, mass_err_atlas  "
   ]
  },
  {
   "cell_type": "markdown",
   "metadata": {},
   "source": [
    "#### Basically, what is the $p(m_X|X_1, X_2)$ (probability disturbution of the mass of X given two sets of measurements ($X_1, X_2$))?"
   ]
  },
  {
   "cell_type": "markdown",
   "metadata": {},
   "source": [
    "> “Probability is orderly opinion and inference from data is nothing other than the revision of such opinion in the light of relevant new information.” \n",
    ">\n",
    "> -- <cite>*Eliezer S. Yudkowsky*</cite> "
   ]
  },
  {
   "cell_type": "markdown",
   "metadata": {},
   "source": [
    "### **Thomas Bayes**' theorem to the rescue!!\n",
    "#### Luckily we can approach this problem in a Bayesian framework. Which basically let us update our belief (knowlegde/information) in a consistant way when we get new information."
   ]
  },
  {
   "cell_type": "markdown",
   "metadata": {},
   "source": [
    "<hr>\n",
    "\n",
    "#### According to Bayes:\n",
    "####  $p(m_X|X_1, X_2) \\varpropto p(X_1, X_2|m_X)$ \n",
    "#### This is much easier to handle since we can assume some models for $ p(X_1, X_2|m_X)$. (We don't need to take care about the normalization here, we are going to get there next week)\n",
    "\n",
    "### **First let's make some assumptions:**\n",
    "#### **1. Bayesian statistics works!**\n",
    "#### **2. The measurements are independent. $ p(X_1, X_2|m_X) = p(X_1|m_X)*p(X_1|m_X)$**\n",
    "#### **3. Measurements follow a random Gaussian disturbution. $PDF(m_{measured})=Gaussian(m_{measured}, \\sigma_{measured})$**\n",
    "#### **4. We have no other information about $m_X$, so we can assume the simplest form which is uniform (tophat) probability diturbution (prior) for this quantity. (quantity that we are looking for)**\n",
    "\n",
    "<hr>"
   ]
  },
  {
   "cell_type": "markdown",
   "metadata": {},
   "source": [
    "### <span style=\"color:#000066\">**Let's calculate the $p(X_1|m_X)$ for different values of $m_X$:**</span>"
   ]
  },
  {
   "cell_type": "markdown",
   "metadata": {},
   "source": [
    "#### <span style=\"color:#000066\">**Start by sampling potential values for m_X**<span>\n"
   ]
  },
  {
   "cell_type": "code",
   "execution_count": 242,
   "metadata": {},
   "outputs": [],
   "source": [
    "m_X_span= np.arange(0, 25, 0.001)"
   ]
  },
  {
   "cell_type": "markdown",
   "metadata": {},
   "source": [
    "#### <span style=\"color:#000066\">**Making two arrays of zeros for storing the probabilities**<span> "
   ]
  },
  {
   "cell_type": "code",
   "execution_count": 243,
   "metadata": {},
   "outputs": [],
   "source": [
    "prob_atlas=np.zeros(len(m_X_span))\n",
    "prob_cms=np.zeros(len(m_X_span))"
   ]
  },
  {
   "cell_type": "markdown",
   "metadata": {},
   "source": [
    "#### <span style=\"color:#000066\">**Building the joint pdf [p(X1, X2)]**<span> "
   ]
  },
  {
   "cell_type": "code",
   "execution_count": 244,
   "metadata": {},
   "outputs": [],
   "source": [
    "for i, m in enumerate(m_X_span):\n",
    "    prob_atlas[i]=Gaussian_prob(mass_atlas, _mu=m, _sigma=mass_err_atlas)\n",
    "    prob_cms[i]=Gaussian_prob(mass_cms, _mu=m, _sigma=mass_err_cms)"
   ]
  },
  {
   "cell_type": "markdown",
   "metadata": {},
   "source": [
    "#### <span style=\"color:#000066\">**Finding the joint disturbution**<span>"
   ]
  },
  {
   "cell_type": "code",
   "execution_count": 203,
   "metadata": {},
   "outputs": [],
   "source": [
    "joint_prob = prob_atlas*prob_cms"
   ]
  },
  {
   "cell_type": "markdown",
   "metadata": {},
   "source": [
    "#### <span style=\"color:#000066\">**Since we use the Uniform  prior for $m_X$, it is very easy to find the normalization; we can sum over all the elements of the probability vector**<span>"
   ]
  },
  {
   "cell_type": "code",
   "execution_count": 227,
   "metadata": {},
   "outputs": [],
   "source": [
    "Normalization = len(m_X_span)/(sum(joint_prob)*(max(m_X_span)-min(m_X_span)))\n",
    "joint_prob_normalized = joint_prob*Normalization"
   ]
  },
  {
   "cell_type": "markdown",
   "metadata": {},
   "source": [
    "#### <span style=\"color:#000066\">**Finding the mass corresponding to the highest probability. (So this is the most probable value)**<span>"
   ]
  },
  {
   "cell_type": "code",
   "execution_count": 228,
   "metadata": {},
   "outputs": [],
   "source": [
    "m_X_max_prob = m_X_span[joint_prob==max(joint_prob)]"
   ]
  },
  {
   "cell_type": "markdown",
   "metadata": {},
   "source": [
    "#### <span style=\"color:#000066\">**Plotting the pdf for the two measurements + joint pdf normalized and unnormalized:**<span>\n",
    "                                                                                    "
   ]
  },
  {
   "cell_type": "code",
   "execution_count": 236,
   "metadata": {},
   "outputs": [
    {
     "data": {
      "image/png": "[encoded data removed]",
      "text/plain": [
       "<Figure size 432x288 with 1 Axes>"
      ]
     },
     "metadata": {
      "needs_background": "light"
     },
     "output_type": "display_data"
    }
   ],
   "source": [
    "plt.plot(m_X_span, prob_atlas, label=\"ATLAS detector\")\n",
    "plt.plot(m_X_span, prob_cms, label=\"CMS detector\")\n",
    "\n",
    "plt.plot(m_X_span, joint_prob_normalized, label=\"Joint pdf (Normalized)\")\n",
    "plt.plot(m_X_span, joint_prob, label=\"Joint pdf (Not normalized)\")\n",
    "\n",
    "plt.title(r\"Probability Disturbution Function\")\n",
    "plt.xlabel(r\"$m_X$\")\n",
    "plt.ylabel(r\"Probability\")\n",
    "\n",
    "plt.legend()\n",
    "plt.show()"
   ]
  },
  {
   "cell_type": "markdown",
   "metadata": {},
   "source": [
    "#### <span style=\"color:#000066\">**As you can see in the plot the joint pdf is much closer to the CMS team results rather than ATLAS team measurement; which was expected from their uncertaintities. This is the value of mass you can report:**<span>"
   ]
  },
  {
   "cell_type": "code",
   "execution_count": 238,
   "metadata": {},
   "outputs": [
    {
     "name": "stdout",
     "output_type": "stream",
     "text": [
      "[7.845]\n"
     ]
    }
   ],
   "source": [
    "print(m_X_max_prob)"
   ]
  },
  {
   "cell_type": "markdown",
   "metadata": {},
   "source": [
    "### There is an analytical way of getting to the same results, since we are working with gaussian functions which have very special properties. One that we need is the following:\n",
    "#### **$Guassian(\\mu_1,\\sigma_1)*Guassian(\\mu_2,\\sigma_2)=Guassian(\\frac{\\mu_1\\sigma_2^2+\\mu_2\\sigma_1^2}{\\sigma_1^2+\\sigma_2^2},\\frac{\\sigma_1\\sigma_2}{\\sqrt{\\sigma_1^2+\\sigma_2^2}})$**"
   ]
  },
  {
   "cell_type": "code",
   "execution_count": 239,
   "metadata": {},
   "outputs": [],
   "source": [
    "def two_gaussian(mu1,mu2,sigma1,sigma2):\n",
    "    return (mu1*sigma2**2+mu2*sigma1**2)/(sigma1**2+sigma2**2), (sigma2*sigma1)/np.sqrt(sigma1**2+sigma2**2)"
   ]
  },
  {
   "cell_type": "code",
   "execution_count": 240,
   "metadata": {},
   "outputs": [
    {
     "data": {
      "text/plain": [
       "(7.845353846153847, 1.4685712575362284)"
      ]
     },
     "execution_count": 240,
     "metadata": {},
     "output_type": "execute_result"
    }
   ],
   "source": [
    "two_gaussian(mass_cms, mass_atlas, mass_err_cms, mass_err_atlas)"
   ]
  },
  {
   "cell_type": "markdown",
   "metadata": {},
   "source": [
    "### **Which as you can see agrees with our result from the sampling method.**"
   ]
  }
 ],
 "metadata": {
  "kernelspec": {
   "display_name": "Python 3",
   "language": "python",
   "name": "python3"
  },
  "language_info": {
   "codemirror_mode": {
    "name": "ipython",
    "version": 3
   },
   "file_extension": ".py",
   "mimetype": "text/x-python",
   "name": "python",
   "nbconvert_exporter": "python",
   "pygments_lexer": "ipython3",
   "version": "3.7.2"
  }
 },
 "nbformat": 4,
 "nbformat_minor": 2
}
