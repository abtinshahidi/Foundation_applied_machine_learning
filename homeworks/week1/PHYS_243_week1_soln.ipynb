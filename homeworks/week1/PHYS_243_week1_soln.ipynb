{
 "cells": [
  {
   "cell_type": "markdown",
   "metadata": {
    "id": "l9yYdr6mspCs"
   },
   "source": [
    "# **PHYS - 243**\n",
    "Prof: Dr. Mobasher // TA: Abtin Shahidi\n",
    "\n",
    "**Homework 1 - Due 04/18/2021** "
   ]
  },
  {
   "cell_type": "markdown",
   "metadata": {
    "id": "BFSmUZZss5hL"
   },
   "source": [
    "## Problem 1: Python Programming"
   ]
  },
  {
   "cell_type": "markdown",
   "metadata": {
    "id": "QRrdtP3KtLfR"
   },
   "source": [
    "**Part 1: Rewrite iterative function for following recursive function**"
   ]
  },
  {
   "cell_type": "code",
   "execution_count": null,
   "metadata": {
    "colab": {
     "base_uri": "https://localhost:8080/"
    },
    "id": "kWuC_O91tRa4",
    "outputId": "f502d3b0-0914-43aa-920c-6a93eb0211b0"
   },
   "outputs": [
    {
     "data": {
      "text/plain": [
       "89"
      ]
     },
     "execution_count": 17,
     "metadata": {
      "tags": []
     },
     "output_type": "execute_result"
    }
   ],
   "source": [
    "def Fib_rec(n=0):\n",
    "  if n ==0:\n",
    "    return 1\n",
    "  elif n==1:\n",
    "    return 1\n",
    "  else:\n",
    "    return Fib_rec(n-1)+Fib_rec(n-2)\n",
    "Fib_rec(10)"
   ]
  },
  {
   "cell_type": "code",
   "execution_count": null,
   "metadata": {
    "colab": {
     "base_uri": "https://localhost:8080/"
    },
    "id": "8rlpugFRuEi3",
    "outputId": "a96eeeef-5709-4def-a881-46eefa1b1583"
   },
   "outputs": [
    {
     "name": "stdout",
     "output_type": "stream",
     "text": [
      "89\n"
     ]
    }
   ],
   "source": [
    "#iterative function with for loop\n",
    "def Fib_iter_loop(n=0):\n",
    "  n1 = 0\n",
    "  n2 = 1\n",
    "  fs = 0\n",
    "  count = 0\n",
    "\n",
    "  if n==0:\n",
    "    return 1\n",
    "  elif n==1:\n",
    "    return 1\n",
    "  else: \n",
    "    for n in range (count, n, 1):\n",
    "      nth = n1 + n2\n",
    "      n1 = n2\n",
    "      n2 = nth\n",
    "      fs = 0 + nth\n",
    "      count += 1\n",
    "#  print(fs)\n",
    "\n",
    "Fib_iter_loop(10)"
   ]
  },
  {
   "cell_type": "markdown",
   "metadata": {
    "id": "W_wNezuJvHQi"
   },
   "source": [
    "**Part 2: Which function is actually faster?** \n",
    "\n",
    "*(Explain without running the codes)* \n",
    "\n",
    "Iterative approach will be always faster than Recursive without memoization, because it will calculate for all values irrespective if it has already calculated same thing before in call stack.\n",
    "\n",
    "Iterative: O(n+1)\n",
    "\n",
    "Recursive: O(C^n)"
   ]
  },
  {
   "cell_type": "markdown",
   "metadata": {
    "id": "wyFgw-rDw1_E"
   },
   "source": [
    "**Part 3:**\n",
    "\n",
    "Write a code to time the average time for k times function call. A function that takes three arguments (function to time (Fib_rec_, input of the function (n), number of runs(k)) and run the Fib_rec function kitimes for the input of n and returns the average time.\n",
    "\n",
    "Tip: You can use the time module in the python."
   ]
  },
  {
   "cell_type": "code",
   "execution_count": null,
   "metadata": {
    "colab": {
     "base_uri": "https://localhost:8080/"
    },
    "id": "ZnNJTYn5v0E1",
    "outputId": "8d1b7372-150e-4e93-e62a-08d3c18e8af8"
   },
   "outputs": [
    {
     "name": "stdout",
     "output_type": "stream",
     "text": [
      "Function <function Fib_rec at 0x7f4ec83c6830> finished in 0.752 secs. Avg time: 0.02508 secs\n",
      "Function <function Fib_iter_loop at 0x7f4ec83c6680> finished in 0.0 secs. Avg time: 0.0 secs\n"
     ]
    }
   ],
   "source": [
    "import time\n",
    "def timer(f, n, k):\n",
    "  start_time = time.time()\n",
    "\n",
    "  for i in range (0, k, 1): \n",
    "    # pass the function\n",
    "    f(n)\n",
    "\n",
    "  time_taken = time.time() - start_time  \n",
    "  average_time = round(time_taken/k, 5)\n",
    "  print(\"Function %s finished in %s secs. Avg time: %s secs\" % (f, round(time_taken, 3), average_time))\n",
    "\n",
    "  return average_time\n",
    "\n",
    "res = timer(Fib_rec, 24, 30)\n",
    "res = timer(Fib_iter_loop, 24, 30)"
   ]
  },
  {
   "cell_type": "markdown",
   "metadata": {
    "id": "9VQ5Sc_U5kuK"
   },
   "source": [
    "**Part 4**\n",
    "Make a plot in which the x-axis is the value of the input function n and the y-axis is the average time (output of the previous function) for both recursive and non-recursive fibonacci. (Both in the same plot; also use matplotlib package for making the plots)"
   ]
  },
  {
   "cell_type": "code",
   "execution_count": null,
   "metadata": {
    "colab": {
     "base_uri": "https://localhost:8080/",
     "height": 1000
    },
    "id": "i55LeS5h5-ug",
    "outputId": "5ea98f21-f407-4319-cef1-7be92bc56153"
   },
   "outputs": [
    {
     "name": "stdout",
     "output_type": "stream",
     "text": [
      "Function <function Fib_rec at 0x7f4ec83c6830> finished in 0.0 secs. Avg time: 0.0 secs\n",
      "Function <function Fib_iter_loop at 0x7f4ec83c6680> finished in 0.0 secs. Avg time: 0.0 secs\n",
      "Function <function Fib_rec at 0x7f4ec83c6830> finished in 0.0 secs. Avg time: 0.0 secs\n",
      "Function <function Fib_iter_loop at 0x7f4ec83c6680> finished in 0.0 secs. Avg time: 0.0 secs\n",
      "Function <function Fib_rec at 0x7f4ec83c6830> finished in 0.0 secs. Avg time: 0.0 secs\n",
      "Function <function Fib_iter_loop at 0x7f4ec83c6680> finished in 0.0 secs. Avg time: 0.0 secs\n",
      "Function <function Fib_rec at 0x7f4ec83c6830> finished in 0.0 secs. Avg time: 0.0 secs\n",
      "Function <function Fib_iter_loop at 0x7f4ec83c6680> finished in 0.0 secs. Avg time: 0.0 secs\n",
      "Function <function Fib_rec at 0x7f4ec83c6830> finished in 0.0 secs. Avg time: 0.0 secs\n",
      "Function <function Fib_iter_loop at 0x7f4ec83c6680> finished in 0.0 secs. Avg time: 0.0 secs\n",
      "Function <function Fib_rec at 0x7f4ec83c6830> finished in 0.0 secs. Avg time: 0.0 secs\n",
      "Function <function Fib_iter_loop at 0x7f4ec83c6680> finished in 0.0 secs. Avg time: 0.0 secs\n",
      "Function <function Fib_rec at 0x7f4ec83c6830> finished in 0.001 secs. Avg time: 2e-05 secs\n",
      "Function <function Fib_iter_loop at 0x7f4ec83c6680> finished in 0.0 secs. Avg time: 0.0 secs\n",
      "Function <function Fib_rec at 0x7f4ec83c6830> finished in 0.001 secs. Avg time: 2e-05 secs\n",
      "Function <function Fib_iter_loop at 0x7f4ec83c6680> finished in 0.0 secs. Avg time: 0.0 secs\n",
      "Function <function Fib_rec at 0x7f4ec83c6830> finished in 0.001 secs. Avg time: 2e-05 secs\n",
      "Function <function Fib_iter_loop at 0x7f4ec83c6680> finished in 0.0 secs. Avg time: 0.0 secs\n",
      "Function <function Fib_rec at 0x7f4ec83c6830> finished in 0.002 secs. Avg time: 4e-05 secs\n",
      "Function <function Fib_iter_loop at 0x7f4ec83c6680> finished in 0.0 secs. Avg time: 0.0 secs\n",
      "Function <function Fib_rec at 0x7f4ec83c6830> finished in 0.002 secs. Avg time: 3e-05 secs\n",
      "Function <function Fib_iter_loop at 0x7f4ec83c6680> finished in 0.0 secs. Avg time: 0.0 secs\n",
      "Function <function Fib_rec at 0x7f4ec83c6830> finished in 0.003 secs. Avg time: 5e-05 secs\n",
      "Function <function Fib_iter_loop at 0x7f4ec83c6680> finished in 0.0 secs. Avg time: 0.0 secs\n",
      "Function <function Fib_rec at 0x7f4ec83c6830> finished in 0.006 secs. Avg time: 9e-05 secs\n",
      "Function <function Fib_iter_loop at 0x7f4ec83c6680> finished in 0.0 secs. Avg time: 0.0 secs\n",
      "Function <function Fib_rec at 0x7f4ec83c6830> finished in 0.008 secs. Avg time: 0.00013 secs\n",
      "Function <function Fib_iter_loop at 0x7f4ec83c6680> finished in 0.0 secs. Avg time: 0.0 secs\n",
      "Function <function Fib_rec at 0x7f4ec83c6830> finished in 0.012 secs. Avg time: 0.00021 secs\n",
      "Function <function Fib_iter_loop at 0x7f4ec83c6680> finished in 0.0 secs. Avg time: 0.0 secs\n",
      "Function <function Fib_rec at 0x7f4ec83c6830> finished in 0.022 secs. Avg time: 0.00036 secs\n",
      "Function <function Fib_iter_loop at 0x7f4ec83c6680> finished in 0.0 secs. Avg time: 0.0 secs\n",
      "Function <function Fib_rec at 0x7f4ec83c6830> finished in 0.037 secs. Avg time: 0.00061 secs\n",
      "Function <function Fib_iter_loop at 0x7f4ec83c6680> finished in 0.0 secs. Avg time: 0.0 secs\n",
      "Function <function Fib_rec at 0x7f4ec83c6830> finished in 0.054 secs. Avg time: 0.00091 secs\n",
      "Function <function Fib_iter_loop at 0x7f4ec83c6680> finished in 0.0 secs. Avg time: 1e-05 secs\n",
      "Function <function Fib_rec at 0x7f4ec83c6830> finished in 0.086 secs. Avg time: 0.00144 secs\n",
      "Function <function Fib_iter_loop at 0x7f4ec83c6680> finished in 0.0 secs. Avg time: 0.0 secs\n",
      "Function <function Fib_rec at 0x7f4ec83c6830> finished in 0.147 secs. Avg time: 0.00246 secs\n",
      "Function <function Fib_iter_loop at 0x7f4ec83c6680> finished in 0.0 secs. Avg time: 1e-05 secs\n",
      "Function <function Fib_rec at 0x7f4ec83c6830> finished in 0.222 secs. Avg time: 0.00369 secs\n",
      "Function <function Fib_iter_loop at 0x7f4ec83c6680> finished in 0.0 secs. Avg time: 0.0 secs\n",
      "Function <function Fib_rec at 0x7f4ec83c6830> finished in 0.343 secs. Avg time: 0.00572 secs\n",
      "Function <function Fib_iter_loop at 0x7f4ec83c6680> finished in 0.0 secs. Avg time: 0.0 secs\n",
      "Function <function Fib_rec at 0x7f4ec83c6830> finished in 0.577 secs. Avg time: 0.00962 secs\n",
      "Function <function Fib_iter_loop at 0x7f4ec83c6680> finished in 0.0 secs. Avg time: 0.0 secs\n",
      "Function <function Fib_rec at 0x7f4ec83c6830> finished in 0.943 secs. Avg time: 0.01571 secs\n",
      "Function <function Fib_iter_loop at 0x7f4ec83c6680> finished in 0.0 secs. Avg time: 1e-05 secs\n"
     ]
    },
    {
     "data": {
      "image/png": "[encoded data removed]",
      "text/plain": [
       "<Figure size 432x288 with 1 Axes>"
      ]
     },
     "metadata": {
      "needs_background": "light",
      "tags": []
     },
     "output_type": "display_data"
    }
   ],
   "source": [
    "import numpy as np\n",
    "import time\n",
    "import matplotlib.pyplot as plt\n",
    "\n",
    "def plotAvgTime(steps=24):\n",
    "\n",
    "  x = np.empty([steps])\n",
    "  y1 = np.empty([steps])\n",
    "  y2 = np.empty([steps])\n",
    "\n",
    "  for i in range (0, steps):\n",
    "    x = np.append(x, i)\n",
    "    y1 = np.append(y1, timer(Fib_rec, i, 60))\n",
    "    y2 = np.append(y2, timer(Fib_iter_loop, i, 60))\n",
    "  \n",
    "  plt.plot(x, y1, label=\"Fib Recursive\")\n",
    "  plt.plot(x, y2, label=\"Fib Iterative\")\n",
    "\n",
    "  plt.title(r\"Function Performance\")\n",
    "  plt.xlabel(r\"$n$\")\n",
    "  plt.ylabel(r\"$Average Time (s)$\")\n",
    "\n",
    "  plt.legend()\n",
    "  plt.show()\n",
    "\n",
    "plotAvgTime()"
   ]
  },
  {
   "cell_type": "markdown",
   "metadata": {
    "id": "IsGAecJK9H8V"
   },
   "source": [
    "As shown in graph: There is not much differece between iterative or recursive in response time when computation is small but when size increases response time become exponential."
   ]
  },
  {
   "cell_type": "markdown",
   "metadata": {
    "id": "NaF2V7OYQ6tE"
   },
   "source": [
    "## Problem 2: Linear Algebra\n",
    "\n",
    "Given the Matrix below answer the questions:\n",
    "\n",
    "**Matrix M**\n",
    "\n",
    "$$\\begin{align}\n",
    "\\mathbf{M}=\\begin{bmatrix} 1 & -4 & 2 \\\\ -4 & 1 & -2 \\\\ 2 & -2 & -2\n",
    "\\end{bmatrix}\n",
    "\\end{align}$$"
   ]
  },
  {
   "cell_type": "code",
   "execution_count": 1,
   "metadata": {
    "id": "Wy0hX3JfUmlm"
   },
   "outputs": [],
   "source": [
    "import numpy as np\n",
    "\n",
    "M = [[1, -4, 2],\n",
    "     [-4, 1, -2],\n",
    "     [2, -2, -2]]\n",
    "#print(\"M=\", M)\n",
    "\n",
    "np_matrix = np.array(M)\n",
    "#print(\"Numpy matrix:\\n\" , np_matrix)"
   ]
  },
  {
   "cell_type": "markdown",
   "metadata": {
    "id": "2REVAJ0XSHMN"
   },
   "source": [
    "**Part 1: Find the determinant, transpose, inverse(if exist) for M.**"
   ]
  },
  {
   "cell_type": "code",
   "execution_count": 2,
   "metadata": {
    "colab": {
     "base_uri": "https://localhost:8080/"
    },
    "id": "QX9xmwqUWWq1",
    "outputId": "0ba3d710-3a7e-4d71-afcc-de79bfd9fc82"
   },
   "outputs": [
    {
     "name": "stdout",
     "output_type": "stream",
     "text": [
      "M Determinant:  54.00000000000001\n",
      "M transpose: \n",
      " [[ 1 -4  2]\n",
      " [-4  1 -2]\n",
      " [ 2 -2 -2]]\n",
      "np_matrix: \n",
      " [[ 1 -4  2]\n",
      " [-4  1 -2]\n",
      " [ 2 -2 -2]]\n",
      "M inverse: \n",
      " [[-0.11111111 -0.22222222  0.11111111]\n",
      " [-0.22222222 -0.11111111 -0.11111111]\n",
      " [ 0.11111111 -0.11111111 -0.27777778]]\n"
     ]
    }
   ],
   "source": [
    "from numpy.linalg import inv\n",
    "from numpy.linalg import det\n",
    "\n",
    "m_determinant = det(np_matrix)\n",
    "print('M Determinant: ', m_determinant)\n",
    "\n",
    "m_transpose = np_matrix.transpose()\n",
    "print('M transpose: \\n', m_transpose)\n",
    "\n",
    "\n",
    "#print('np_matrix: \\n', np_matrix)\n",
    "m_inverse = inv(np_matrix)\n",
    "print('M inverse: \\n', m_inverse)"
   ]
  },
  {
   "cell_type": "markdown",
   "metadata": {
    "id": "pfjoliO1SXIt"
   },
   "source": [
    "**Part 2: Find the eigenvalues and eigenvectors for M.**"
   ]
  },
  {
   "cell_type": "code",
   "execution_count": null,
   "metadata": {
    "colab": {
     "base_uri": "https://localhost:8080/"
    },
    "id": "_GgPKhjjZYeL",
    "outputId": "8d19589b-68bb-4f61-e96d-092750fa3455"
   },
   "outputs": [
    {
     "name": "stdout",
     "output_type": "stream",
     "text": [
      "Eigen values & vectors =\n",
      " (array([-3.,  6., -3.]), array([[-0.74535599, -0.66666667,  0.09505013],\n",
      "       [-0.59628479,  0.66666667,  0.51960247],\n",
      "       [ 0.2981424 , -0.33333333,  0.84910467]]))\n",
      "Eigen values =\n",
      " [-3.  6. -3.]\n"
     ]
    }
   ],
   "source": [
    "from numpy.linalg import eig\n",
    "from numpy.linalg import eigvals\n",
    "\n",
    "m_eig = eig(np_matrix)\n",
    "m_eigvals = eigvals(np_matrix)\n",
    "\n",
    "print('Eigen values & vectors =\\n', m_eig)\n",
    "\n",
    "print('Eigen values =\\n', m_eigvals)"
   ]
  },
  {
   "cell_type": "markdown",
   "metadata": {
    "id": "srdIYm-MSb8G"
   },
   "source": [
    "**Part 3: Find the Gradient if the  f(A) for the following:**\n",
    "\n",
    "$$\\begin{align}\n",
    "\\mathbf{A}=\\begin{bmatrix} x11 & x12 & x13 \\\\ x21 & x22 & x23 \\\\ x31 & x32 & x33\n",
    "\\end{bmatrix}\n",
    "\\end{align}$$\n",
    "\n",
    "f(A) = (x11^2 * x22 * x23) + (x11 * x12 * x13 * x31) - (x33^2 * x32 * x21) \n"
   ]
  },
  {
   "cell_type": "markdown",
   "metadata": {
    "id": "Q7dRnOJeS1_B"
   },
   "source": [
    "**Part 4: Find the Hessian Matrix for:** \n",
    "\n",
    "g(x, y, z) = x^3 + yz sin(x) + xy^2z^5"
   ]
  },
  {
   "cell_type": "markdown",
   "metadata": {
    "id": "pdOTU9ncATmr"
   },
   "source": [
    "## Problem 3: Machine Learning\n",
    "\n",
    "**Part 1: Explain the difference between validation and test samples**\n",
    "\n",
    "Generally data is divided into 3 category: \n",
    "1. Train Data Set: used to train model\n",
    "2. Validation: fine tune learning rate\n",
    "3. Test: Test data generally never seen by system during Train & Validation phases and used to test the accuracy of Machine Learning model."
   ]
  },
  {
   "cell_type": "markdown",
   "metadata": {
    "id": "ZVhHYdiHAYtp"
   },
   "source": [
    "![trainValidationTest.png](data:image/png;base64,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)"
   ]
  },
  {
   "cell_type": "markdown",
   "metadata": {
    "id": "MddHEuXl98PE"
   },
   "source": [
    "\n",
    "\n",
    "**Part 2: Explain the difference between supervised and unsupervised learning algorithm.**\n",
    "In Supervised Learning (labeled data) has 2 subtypes - Classification (discrete) & Regression(continous), here we have labeled data and uses it to predict input after model training and validation phases. Target is known in supervised Learning.\n",
    "\n",
    "Unsupervised Learning (unlabled data): has 2 subtypes Clustering & Dimensionity reduction, we receive unlabled data, looking at vaious features data is categorized into categories. PCA & Dimensional reduction used for better visualization by keeping important data and dropping some not much useful features in outcomes. We have given the expected target when training.\n",
    "\n"
   ]
  },
  {
   "cell_type": "markdown",
   "metadata": {
    "id": "6jrFUDCM_lZB"
   },
   "source": [
    "Image: Supervised vs Non Supervised Learning: \n",
    "![supervisedVsNonSupervised.jpeg](data:image/jpeg;base64,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)"
   ]
  },
  {
   "cell_type": "markdown",
   "metadata": {
    "id": "D1LvFfJK_4BW"
   },
   "source": [
    "**Part: Define optimization and describe it's relationship with Machine Learning.**\n",
    "\n",
    "Optimization is an important process in Machine Learning, Optimization is process of reducing the value of Cost function, high value of cost function indicates poor performance while low value indicates optimum parameter fit.\n",
    "\n",
    "Few examples from Lecture slides:\n",
    "1. fitting a line to the data on feature space. we need to find slope & intercept of the line that best fits the data (minimum scatter around and the best fitted line). eg: high share price generally indicates high revenue. \n",
    "2. In classification we want to seprate points with common features , we estimate the parameter associated with the line (slope & intercept) to find the line that completly separates the points. Here the parameters are again found by minimizing the cost function allowing for Best seperation of the ppints. "
   ]
  }
 ],
 "metadata": {
  "colab": {
   "collapsed_sections": [],
   "name": "PHYS_243_HW_1.ipynb",
   "provenance": [],
   "toc_visible": true
  },
  "kernelspec": {
   "display_name": "Python 3",
   "language": "python",
   "name": "python3"
  },
  "language_info": {
   "codemirror_mode": {
    "name": "ipython",
    "version": 3
   },
   "file_extension": ".py",
   "mimetype": "text/x-python",
   "name": "python",
   "nbconvert_exporter": "python",
   "pygments_lexer": "ipython3",
   "version": "3.7.6"
  }
 },
 "nbformat": 4,
 "nbformat_minor": 1
}
